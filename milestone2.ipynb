{
 "cells": [
  {
   "cell_type": "markdown",
   "metadata": {
    "slideshow": {
     "slide_type": "slide"
    }
   },
   "source": [
    "## Amazon Review Data : Data Exploration\n",
    "\n",
    "### Setup spark"
   ]
  },
  {
   "cell_type": "code",
   "execution_count": null,
   "metadata": {},
   "outputs": [],
   "source": [
    "import os, pickle, glob, math\n",
    "import numpy as np\n",
    "from pyspark.sql import SparkSession\n",
    "from pyspark.sql import SQLContext\n",
    "import pyspark.sql.functions as F\n",
    "from pyspark.sql.functions import col\n",
    "\n",
    "import matplotlib.pyplot as plt\n",
    "import seaborn as sns\n",
    "\n",
    "import plotly.offline as py\n",
    "import plotly.graph_objs as go\n",
    "import plotly.io as pio\n",
    "from plotly.offline import iplot\n",
    "\n",
    "py.init_notebook_mode(connected = True)\n",
    "\n",
    "plt.style.use('seaborn-v0_8-whitegrid')\n",
    "sns.set_palette(\"tab10\")"
   ]
  },
  {
   "cell_type": "code",
   "execution_count": null,
   "metadata": {},
   "outputs": [],
   "source": [
    "sc = SparkSession.builder \\\n",
    "    .config(\"spark.driver.memory\", \"64g\") \\\n",
    "\t.config(\"spark.executor.memory\", \"64g\") \\\n",
    "    .config('spark.executor.instances', 16) \\\n",
    "\t.appName(\"Amazon Reviews\") \\\n",
    "\t.getOrCreate()"
   ]
  },
  {
   "cell_type": "code",
   "execution_count": null,
   "metadata": {},
   "outputs": [],
   "source": [
    "sqlContext = SQLContext(sc)"
   ]
  },
  {
   "cell_type": "markdown",
   "metadata": {
    "slideshow": {
     "slide_type": "subslide"
    }
   },
   "source": [
    "## Read Data\n",
    "\n",
    "### Get files"
   ]
  },
  {
   "cell_type": "code",
   "execution_count": null,
   "metadata": {},
   "outputs": [],
   "source": [
    "#######################################################################################\n",
    "###################### change path to: \"../clin6/amazon_data\" #########################\n",
    "#######################################################################################\n",
    "path = \"amazon_data\""
   ]
  },
  {
   "cell_type": "code",
   "execution_count": null,
   "metadata": {},
   "outputs": [],
   "source": [
    "def read(path):\n",
    "    \"\"\"\n",
    "    Method that loads data file as df\n",
    "    Takes in 1 parameter: path\n",
    "    \"\"\"\n",
    "    return sc.read.csv(path, sep = \"\\t\", header = True, inferSchema = True)\n",
    "\n",
    "def get_path(file):\n",
    "    \"\"\"\n",
    "    Method to create path\n",
    "    Takes in 1 parameter: file name\n",
    "    \"\"\"\n",
    "    return \"amazon_data/%s\" % file"
   ]
  },
  {
   "cell_type": "code",
   "execution_count": null,
   "metadata": {},
   "outputs": [],
   "source": [
    "dir = os.listdir(path)\n",
    "files = [f for f in dir if os.path.isfile(os.path.join(path, f))]"
   ]
  },
  {
   "cell_type": "code",
   "execution_count": null,
   "metadata": {},
   "outputs": [],
   "source": [
    "def get_df(files):\n",
    "    \"\"\"\n",
    "    Method that combines files into 1 big df\n",
    "    Takes in 1 parameter: list of file names\n",
    "    \"\"\"\n",
    "    df = read(get_path(files[0]))\n",
    "    n = len(files)\n",
    "    for i in range(1, n):\n",
    "        data = read(get_path(files[i]))\n",
    "        df = df.union(data)\n",
    "    return df"
   ]
  },
  {
   "cell_type": "markdown",
   "metadata": {},
   "source": [
    "### Get df and Removing Repetitive/Unnecessary Information"
   ]
  },
  {
   "cell_type": "code",
   "execution_count": null,
   "metadata": {},
   "outputs": [],
   "source": [
    "df = get_df(files)#.drop('marketplace', 'vine')\n",
    "sqlContext.registerDataFrameAsTable(df, \"df\")"
   ]
  },
  {
   "cell_type": "markdown",
   "metadata": {},
   "source": [
    "# Data Exploration Start\n",
    "* Perform the data exploration step (i.e. evaluate your data, # of observations, details about your data distributions, scales, missing data, column descriptions) Note: For image data you can still describe your data by the number of classes, # of images, plot example classes of the image, size of images, are sizes uniform? Do they need to be cropped? normalized? etc."
   ]
  },
  {
   "cell_type": "code",
   "execution_count": 9,
   "metadata": {},
   "outputs": [
    {
     "name": "stdout",
     "output_type": "stream",
     "text": [
      "+-----------+-----------+--------------+----------+--------------+--------------------+----------------+-----------+-------------+-----------+----+-----------------+--------------------+--------------------+-----------+\n",
      "|marketplace|customer_id|     review_id|product_id|product_parent|       product_title|product_category|star_rating|helpful_votes|total_votes|vine|verified_purchase|     review_headline|         review_body|review_date|\n",
      "+-----------+-----------+--------------+----------+--------------+--------------------+----------------+-----------+-------------+-----------+----+-----------------+--------------------+--------------------+-----------+\n",
      "|         US|   36075342| RAB23OVFNCXZQ|B00LPRXQ4Y|     339193102|17\" 2003-2006 For...|      Automotive|          1|            0|          0|   N|                Y|     As it was used,|As it was used, t...| 2015-08-31|\n",
      "|         US|   42462164|R3NORADVJO6IE6|B000C7S0TO|     907684644|Spectra Premium C...|      Automotive|          5|            0|          0|   N|                Y|          Five Stars|Put it in fine, n...| 2015-08-31|\n",
      "|         US|   21241933|R299F4SO98S5OO|B000CO9WE4|     752246352|K&N E-4665 High P...|      Automotive|          5|            1|          1|   N|                Y|Great fit and per...|Fit wonderfully o...| 2015-08-31|\n",
      "|         US|   52570308|R2DA9DOT03UW6I|B000GKD5NI|     105401756|Suncutters Rear W...|      Automotive|          5|            2|          3|   N|                Y|Good for the pric...|Good for the pric...| 2015-08-31|\n",
      "|         US|   38200102|R2OGCH681EQHU6|B009SDA7TE|     728471129|Lug Nuts Landcrui...|      Automotive|          5|            0|          0|   N|                Y|          Five Stars|Fit perfectly on ...| 2015-08-31|\n",
      "+-----------+-----------+--------------+----------+--------------+--------------------+----------------+-----------+-------------+-----------+----+-----------------+--------------------+--------------------+-----------+\n",
      "only showing top 5 rows\n",
      "\n"
     ]
    }
   ],
   "source": [
    "### Show how our data looks like\n",
    "df.show(5)"
   ]
  },
  {
   "cell_type": "code",
   "execution_count": 10,
   "metadata": {
    "slideshow": {
     "slide_type": "slide"
    }
   },
   "outputs": [
    {
     "name": "stdout",
     "output_type": "stream",
     "text": [
      "There is a total of 109830520 observations\n"
     ]
    }
   ],
   "source": [
    "### Total number of observations\n",
    "print('There is a total of %d observations' % df.count())"
   ]
  },
  {
   "cell_type": "code",
   "execution_count": 11,
   "metadata": {},
   "outputs": [
    {
     "name": "stdout",
     "output_type": "stream",
     "text": [
      "Columns:\n",
      "['marketplace', 'customer_id', 'review_id', 'product_id', 'product_parent', 'product_title', 'product_category', 'star_rating', 'helpful_votes', 'total_votes', 'vine', 'verified_purchase', 'review_headline', 'review_body', 'review_date']\n"
     ]
    }
   ],
   "source": [
    "### Get columns\n",
    "columns = df.columns\n",
    "print('Columns:')\n",
    "print(df.columns)"
   ]
  },
  {
   "cell_type": "code",
   "execution_count": 12,
   "metadata": {},
   "outputs": [
    {
     "name": "stdout",
     "output_type": "stream",
     "text": [
      "There is a total of 15 columns\n"
     ]
    }
   ],
   "source": [
    "### Get number of columns\n",
    "num_cols = len(columns)\n",
    "print('There is a total of %d columns' % num_cols)"
   ]
  },
  {
   "cell_type": "code",
   "execution_count": null,
   "metadata": {},
   "outputs": [],
   "source": [
    "### Get number of missing values for each column\n",
    "for i in range(num_cols):\n",
    "    missing = df.filter(df[columns[i]].isNull()).count()\n",
    "    print(\"'%s' column has %d missing values\" % (columns[i], missing))"
   ]
  },
  {
   "cell_type": "code",
   "execution_count": null,
   "metadata": {},
   "outputs": [],
   "source": [
    "data_types = df.dtypes\n",
    "for i in range(num_cols):\n",
    "    print(\"'%s' column is of type '%s'\" % (data_types[i][0], data_types[i][1]))"
   ]
  },
  {
   "cell_type": "code",
   "execution_count": null,
   "metadata": {},
   "outputs": [],
   "source": [
    "### Show data distributions\n",
    "df.describe().show()"
   ]
  },
  {
   "cell_type": "code",
   "execution_count": null,
   "metadata": {},
   "outputs": [],
   "source": [
    "df = df.select([col for col in df.columns if col not in ['marketplace', 'vine']]).cache()\n",
    "\n",
    "### var after updated df\n",
    "columns = df.columns\n",
    "num_cols = len(columns)"
   ]
  },
  {
   "cell_type": "code",
   "execution_count": null,
   "metadata": {},
   "outputs": [],
   "source": [
    "### Get number of missing values for each column\n",
    "for i in range(num_cols):\n",
    "    missing = df.filter(df[columns[i]].isNull()).count()\n",
    "    print(\"'%s' column has %d missing values\" % (columns[i], missing))"
   ]
  },
  {
   "cell_type": "code",
   "execution_count": null,
   "metadata": {},
   "outputs": [],
   "source": [
    "data_types = df.dtypes\n",
    "for i in range(num_cols):\n",
    "    print(\"'%s' column is of type '%s'\" % (data_types[i][0], data_types[i][1]))"
   ]
  },
  {
   "cell_type": "code",
   "execution_count": null,
   "metadata": {},
   "outputs": [],
   "source": [
    "### Show data distributions\n",
    "df.describe().show()"
   ]
  },
  {
   "cell_type": "code",
   "execution_count": null,
   "metadata": {},
   "outputs": [],
   "source": [
    "### Check for duplicates\n",
    "df.groupBy(columns).count().where('count > 1').show()"
   ]
  },
  {
   "cell_type": "markdown",
   "metadata": {},
   "source": [
    "# Plot\n",
    "reference:\n",
    "https://plotly.com/python/v3/apache-spark/"
   ]
  },
  {
   "cell_type": "markdown",
   "metadata": {},
   "source": [
    "# Methods to plot"
   ]
  },
  {
   "cell_type": "code",
   "execution_count": 35,
   "metadata": {},
   "outputs": [],
   "source": [
    "def plot(title, data):\n",
    "    \"\"\"\n",
    "    Helper method to plot\n",
    "    Takes in two paramaters: title, data\n",
    "    \"\"\"\n",
    "    layout = go.Layout(title = title)                       # Create layout\n",
    "    fig = go.Figure(data = data, layout = layout)           # Create figure\n",
    "    #iplot(fig)                                              # Plot figure\n",
    "    return fig"
   ]
  },
  {
   "cell_type": "code",
   "execution_count": 36,
   "metadata": {},
   "outputs": [],
   "source": [
    "def plot_histogram(df, column_name, num_bins, filename = None):\n",
    "    \"\"\"\n",
    "    Method to plot histogram of column\n",
    "    Takes in two parameters: df, column\n",
    "    \"\"\"\n",
    "    min_value, max_value = df.selectExpr(f'min({column_name})', f'max({column_name})').first()\n",
    "    bin_width = (max_value - min_value) / num_bins\n",
    "\n",
    "    # Create bins using floor function\n",
    "    binned_df = df.withColumn('bin', F.floor((col(column_name) - min_value) / bin_width))\n",
    "\n",
    "    # Count the number of occurrences in each bin\n",
    "    bin_counts = binned_df.groupby('bin').count().orderBy('bin').select('bin', 'count')\n",
    "\n",
    "    # Convert the results to Pandas DataFrame\n",
    "    bin_counts_pd = bin_counts.toPandas()\n",
    "    bin_counts_pd['bin_center'] = bin_counts_pd['bin'] * bin_width + min_value + bin_width / 2\n",
    "\n",
    "    # Plot the histogram using Plotly\n",
    "    data = [go.Histogram(x=bin_counts_pd['bin_center'], y=bin_counts_pd['count'])]\n",
    "    \n",
    "    title = 'Histogram of %s' % column_name                  # Set title\n",
    "    return plot(title, data)                                        # Use helper method to plot"
   ]
  },
  {
   "cell_type": "code",
   "execution_count": 16,
   "metadata": {},
   "outputs": [],
   "source": [
    "def plot_piechart(df, column_name, filename):\n",
    "    \"\"\"\n",
    "    Method to plot pie chart of column\n",
    "    Takes in two parameters: df, column\n",
    "    \"\"\"\n",
    "    counts = df.select(col(column_name)).groupBy(column_name).count().toPandas()  # Get counts\n",
    "    data = [go.Pie(labels = counts[column_name], values = counts['count'])]       # Get data\n",
    "    title = 'Pie Chart of %s' % column_name                                        # Set title\n",
    "    plot(title, data)                                       # Use helper method to plot\n",
    "    fig = go.Figure(data=data)\n",
    "    \n",
    "    # Save the plot as an image\n",
    "    pio.write_image(fig, filename)"
   ]
  },
  {
   "cell_type": "code",
   "execution_count": 17,
   "metadata": {},
   "outputs": [],
   "source": [
    "def plot_barplot(df, column_name):\n",
    "    \"\"\"\n",
    "    Method to plot bar plot of column\n",
    "    Takes in one parameter: column\n",
    "    \"\"\"\n",
    "    if column_name == 'star_rating':\n",
    "        df = df.filter((col(column_name) >= 1) & (col(column_name) <= 5))\n",
    "    \n",
    "    counts = df.groupBy(column_name).count()\n",
    "    \n",
    "    # Filter out categories with less than 10,000 rows\n",
    "    counts_filtered = counts.filter(counts['count'] >= 10000)\n",
    "    \n",
    "    # Sort by the column_name\n",
    "    counts_filtered = counts_filtered.orderBy(column_name)\n",
    "    \n",
    "    # Convert to Pandas DataFrame\n",
    "    counts_pd = counts_filtered.toPandas()\n",
    "\n",
    "    # Create bar plot data\n",
    "    data = [go.Bar(x=counts_pd[column_name], y=counts_pd['count'])]\n",
    "    \n",
    "    title = 'Bar Plot of %s' % column_name                                        # Set title\n",
    "    return plot(title, data)                                       # Use helper method to plot"
   ]
  },
  {
   "cell_type": "code",
   "execution_count": 18,
   "metadata": {},
   "outputs": [],
   "source": [
    "def plot_boxplot(df, column_name):\n",
    "    \"\"\"\n",
    "    Method to plot box plot of column\n",
    "    Takes in two parameters: df, column\n",
    "    \"\"\"\n",
    "    quantiles = df.approxQuantile(column_name, [0.25, 0.5, 0.75], 0.01)\n",
    "    min_value = df.selectExpr(f'min({column_name})').first()[0]\n",
    "    max_value = df.selectExpr(f'max({column_name})').first()[0]\n",
    "    q1, median, q3 = quantiles\n",
    "\n",
    "    # Create the box plot using Plotly\n",
    "    data = [go.Box(\n",
    "        y=[min_value, q1, median, q3, max_value],\n",
    "        boxpoints='all',\n",
    "        jitter=0.3,\n",
    "        pointpos=-1.8\n",
    "    )]\n",
    "    title = 'Box plot of %s' % column_name                  # Set title\n",
    "    return plot(title, data)                                       # Use helper method to plot"
   ]
  },
  {
   "cell_type": "markdown",
   "metadata": {},
   "source": [
    "def plot_boxplot_no_outliers(df, column_name):\n",
    "    \"\"\"\n",
    "    Method to plot box plot of column after removing outliers\n",
    "    Takes in two parameters: df, column\n",
    "    \"\"\"\n",
    "    quantiles = df.approxQuantile(column_name, [0.25, 0.5, 0.75], 0.01)\n",
    "    q1, median, q3 = quantiles\n",
    "\n",
    "    # Calculate IQR\n",
    "    iqr = q3 - q1\n",
    "\n",
    "    # Define the outlier range\n",
    "    lower_bound = q1 - 1.5 * iqr\n",
    "    upper_bound = q3 + 1.5 * iqr\n",
    "\n",
    "    # Filter out outliers\n",
    "    filtered_df = df.filter((col(column_name) >= lower_bound) & (col(column_name) <= upper_bound))\n",
    "\n",
    "    # Create the box plot using Plotly\n",
    "    data = [go.Box(y=filtered_df.select(column_name).toPandas()[column_name], boxpoints='outliers')]\n",
    "    \n",
    "    title = 'Box plot of %s (Outliers Removed)' % columns[i]             # Set title\n",
    "    plot(title, data)                                                    # Use helper method to plot"
   ]
  },
  {
   "cell_type": "markdown",
   "metadata": {},
   "source": [
    "## Analysis"
   ]
  },
  {
   "cell_type": "markdown",
   "metadata": {},
   "source": [
    "###### Save plot\n",
    "fig = plot_histogram(df, 'helpful_votes', 1000)\n",
    "fig.update_layout(\n",
    "        title=\"Histogram of Helpful Votes\",\n",
    "        xaxis_title=\"Number of Helpful Votes\",\n",
    "        yaxis_title=\"Frequency\",\n",
    "        title_x=0.5,  # Set title x-alignment to the center\n",
    "        title_y=0.9   # Set title y-alignment to the top\n",
    "    )\n",
    "#pio.write_image(fig, '1_.png')"
   ]
  },
  {
   "cell_type": "code",
   "execution_count": null,
   "metadata": {},
   "outputs": [],
   "source": [
    "plot_histogram(df, 'helpful_votes', 1000)"
   ]
  },
  {
   "cell_type": "markdown",
   "metadata": {},
   "source": [
    "* There are clearly noticeable high outliers\n",
    "* Lets look at a boxplot"
   ]
  },
  {
   "cell_type": "markdown",
   "metadata": {},
   "source": [
    "###### Save plot\n",
    "fig = plot_boxplot(df, 'helpful_votes')\n",
    "fig.update_layout(\n",
    "        title=\"Boxplot of Helpful Votes\",\n",
    "        xaxis_title=\" \",\n",
    "        yaxis_title=\"Number of Helpful Votes\",\n",
    "        title_x=0.5,  # Set title x-alignment to the center\n",
    "        title_y=0.9   # Set title y-alignment to the top\n",
    "    )\n",
    "#pio.write_image(fig, '2_.png')"
   ]
  },
  {
   "cell_type": "code",
   "execution_count": null,
   "metadata": {},
   "outputs": [],
   "source": [
    "plot_boxplot(df, 'helpful_votes')"
   ]
  },
  {
   "cell_type": "markdown",
   "metadata": {},
   "source": [
    "* Indeed we see many high outliers\n",
    "* The boxplot is heavily skewed"
   ]
  },
  {
   "cell_type": "markdown",
   "metadata": {},
   "source": [
    "plot_boxplot_no_outliers(df, 'helpful_votes')"
   ]
  },
  {
   "cell_type": "markdown",
   "metadata": {},
   "source": [
    "* Outliers removed box plot, we see most reviews have no votes"
   ]
  },
  {
   "cell_type": "markdown",
   "metadata": {},
   "source": [
    "###### Save plot\n",
    "fig = plot_barplot(df, 'star_rating')\n",
    "fig.update_layout(\n",
    "        title=\"Barplot of Star Rating\",\n",
    "        xaxis_title=\"Star Rating\",\n",
    "        yaxis_title=\"Counts\",\n",
    "        title_x=0.5,  # Set title x-alignment to the center\n",
    "        title_y=0.9   # Set title y-alignment to the top\n",
    "    )\n",
    "#pio.write_image(fig, '3_.png')"
   ]
  },
  {
   "cell_type": "code",
   "execution_count": null,
   "metadata": {},
   "outputs": [],
   "source": [
    "plot_barplot(df, 'star_rating')"
   ]
  },
  {
   "cell_type": "markdown",
   "metadata": {},
   "source": [
    "* Majority of ratings given are 5 stars\n",
    "* Second most given rating is 1 but still much less than 5\n",
    "* Increased ratings from 2 to 5 stars"
   ]
  },
  {
   "cell_type": "markdown",
   "metadata": {},
   "source": [
    "# Look at category proportions"
   ]
  },
  {
   "cell_type": "markdown",
   "metadata": {},
   "source": [
    "###### Save plot\n",
    "fig = plot_barplot(df, 'product_category')\n",
    "fig.update_layout(\n",
    "        title=\"Barplot of Product Category\",\n",
    "        xaxis_title=\"Product Category\",\n",
    "        yaxis_title=\"Counts\",\n",
    "        title_x=0.5,  # Set title x-alignment to the center\n",
    "        title_y=0.9   # Set title y-alignment to the top\n",
    "    )\n",
    "#pio.write_image(fig, '4_.png')"
   ]
  },
  {
   "cell_type": "code",
   "execution_count": null,
   "metadata": {},
   "outputs": [],
   "source": [
    "plot_barplot(df, 'product_category')"
   ]
  },
  {
   "cell_type": "markdown",
   "metadata": {},
   "source": [
    "# Compare purchase counts by year"
   ]
  },
  {
   "cell_type": "code",
   "execution_count": 23,
   "metadata": {},
   "outputs": [],
   "source": [
    "from pyspark.sql.functions import col, year, substring\n",
    "\n",
    "def plot_purchase_counts(df, df_name, target_year):\n",
    "    \"\"\"\n",
    "    Plot the purchase counts for a given DataFrame and year.\n",
    "\n",
    "    Args:\n",
    "    - df: The DataFrame containing the review data.\n",
    "    - target_year: The year for which purchase counts will be plotted.\n",
    "    - df_name: The name of the DataFrame.\n",
    "\n",
    "    Returns:\n",
    "    - None\n",
    "    \"\"\"\n",
    "    # Filter the DataFrame to include only rows from the specified year\n",
    "    df_year = df.filter(F.year(df['review_date']) == target_year)\n",
    "\n",
    "    # Extract the month from the 'review_date' column\n",
    "    df_year = df_year.withColumn('review_month', substring(df_year['review_date'], 6, 2))\n",
    "\n",
    "    # Count the number of purchases for each month\n",
    "    purchase_counts = df_year.groupby('review_month').count().orderBy('review_month')\n",
    "\n",
    "    # Plot the counts using a bar plot\n",
    "    plt.figure(figsize=(10, 6))\n",
    "    plt.bar(purchase_counts.toPandas()['review_month'], purchase_counts.toPandas()['count'])\n",
    "    plt.title(f'Purchase Counts for {df_name} Year {target_year}')\n",
    "    plt.xlabel('Month')\n",
    "    plt.ylabel('Number of Purchases')\n",
    "    plt.tight_layout()  # Ensures proper layout\n",
    "    return plt"
   ]
  },
  {
   "cell_type": "code",
   "execution_count": 24,
   "metadata": {},
   "outputs": [
    {
     "data": {
      "image/png": "[encoded data removed]",
      "text/plain": [
       "<Figure size 1000x600 with 1 Axes>"
      ]
     },
     "metadata": {},
     "output_type": "display_data"
    }
   ],
   "source": [
    "plt = plot_purchase_counts(df, \"all categories\", 1999)\n",
    "#plt.savefig('1999.png')"
   ]
  },
  {
   "cell_type": "code",
   "execution_count": 25,
   "metadata": {},
   "outputs": [
    {
     "data": {
      "image/png": "[encoded data removed]",
      "text/plain": [
       "<Figure size 1000x600 with 1 Axes>"
      ]
     },
     "metadata": {},
     "output_type": "display_data"
    }
   ],
   "source": [
    "plt = plot_purchase_counts(df, \"all categories\", 2015)\n",
    "#plt.savefig('2015.png')"
   ]
  },
  {
   "cell_type": "markdown",
   "metadata": {},
   "source": [
    "# Look at all years"
   ]
  },
  {
   "cell_type": "code",
   "execution_count": 26,
   "metadata": {},
   "outputs": [],
   "source": [
    "def plot_yearly_purchase_counts(df, df_name):\n",
    "    \"\"\"\n",
    "    Plot the purchase counts for each year in a given DataFrame.\n",
    "\n",
    "    Args:\n",
    "    - df: The DataFrame containing the review data.\n",
    "    - df_name: The name of the DataFrame.\n",
    "\n",
    "    Returns:\n",
    "    - fig: The figure containing the subplots.\n",
    "    \"\"\"\n",
    "    # Extract the year from the 'review_date' column\n",
    "    df_year = df.withColumn('review_year', F.year(df['review_date']))\n",
    "\n",
    "    # Count the number of purchases for each year\n",
    "    purchase_counts = df_year.groupby('review_year').count().orderBy('review_year')\n",
    "\n",
    "    # Convert to Pandas DataFrame for plotting\n",
    "    purchase_counts_pd = purchase_counts.toPandas()\n",
    "\n",
    "    # Plot the counts using a bar plot\n",
    "    plt.figure(figsize=(10, 6))\n",
    "    plt.bar(purchase_counts_pd['review_year'], purchase_counts_pd['count'])\n",
    "    plt.title('Historical Yearly Purchase Counts')\n",
    "    plt.xlabel('Year')\n",
    "    plt.ylabel('Number of Purchases')\n",
    "    plt.tight_layout()  # Ensures proper layout\n",
    "    return plt"
   ]
  },
  {
   "cell_type": "code",
   "execution_count": 27,
   "metadata": {},
   "outputs": [
    {
     "data": {
      "image/png": "[encoded data removed]",
      "text/plain": [
       "<Figure size 1000x600 with 1 Axes>"
      ]
     },
     "metadata": {},
     "output_type": "display_data"
    }
   ],
   "source": [
    "plt = plot_yearly_purchase_counts(df, \"all years\")\n",
    "#plt.savefig('counts.png')"
   ]
  },
  {
   "cell_type": "markdown",
   "metadata": {},
   "source": [
    "# Look at relationship between variables"
   ]
  },
  {
   "cell_type": "code",
   "execution_count": 38,
   "metadata": {},
   "outputs": [],
   "source": [
    "def plot_scatter(df, column_name_x, column_name_y):\n",
    "    \"\"\"\n",
    "    Method to plot scatterplot of two columns\n",
    "    Takes in three parameters: df, column x, column y\n",
    "    \"\"\"\n",
    "    df_pd = df.select(column_name_x, column_name_y).toPandas()\n",
    "    \n",
    "    # Plot the scatterplot using Plotly\n",
    "    data = [go.Scatter(x=df_pd[column_name_x], y=df_pd[column_name_y], mode='markers')]\n",
    "    \n",
    "    title = 'Scatterplot %s v.s. %s' % (column_name_x, column_name_y)                 # Set title\n",
    "    return plot(title, data)                                 # Use helper method to plot"
   ]
  },
  {
   "cell_type": "code",
   "execution_count": 39,
   "metadata": {},
   "outputs": [
    {
     "ename": "KeyboardInterrupt",
     "evalue": "",
     "output_type": "error",
     "traceback": [
      "\u001b[0;31m---------------------------------------------------------------------------\u001b[0m",
      "\u001b[0;31mKeyboardInterrupt\u001b[0m                         Traceback (most recent call last)",
      "    \u001b[0;31m[... skipping hidden 1 frame]\u001b[0m\n",
      "Cell \u001b[0;32mIn[39], line 1\u001b[0m\n\u001b[0;32m----> 1\u001b[0m \u001b[43mplot_scatter\u001b[49m\u001b[43m(\u001b[49m\u001b[43mdf\u001b[49m\u001b[43m,\u001b[49m\u001b[43m \u001b[49m\u001b[38;5;124;43m'\u001b[39;49m\u001b[38;5;124;43mhelpful_votes\u001b[39;49m\u001b[38;5;124;43m'\u001b[39;49m\u001b[43m,\u001b[49m\u001b[43m \u001b[49m\u001b[38;5;124;43m'\u001b[39;49m\u001b[38;5;124;43mstar_rating\u001b[39;49m\u001b[38;5;124;43m'\u001b[39;49m\u001b[43m)\u001b[49m\n",
      "Cell \u001b[0;32mIn[38], line 6\u001b[0m, in \u001b[0;36mplot_scatter\u001b[0;34m(df, column_name_x, column_name_y)\u001b[0m\n\u001b[1;32m      2\u001b[0m \u001b[38;5;250m\u001b[39m\u001b[38;5;124;03m\"\"\"\u001b[39;00m\n\u001b[1;32m      3\u001b[0m \u001b[38;5;124;03mMethod to plot scatterplot of two columns\u001b[39;00m\n\u001b[1;32m      4\u001b[0m \u001b[38;5;124;03mTakes in three parameters: df, column x, column y\u001b[39;00m\n\u001b[1;32m      5\u001b[0m \u001b[38;5;124;03m\"\"\"\u001b[39;00m\n\u001b[0;32m----> 6\u001b[0m df_pd \u001b[38;5;241m=\u001b[39m \u001b[43mdf\u001b[49m\u001b[38;5;241;43m.\u001b[39;49m\u001b[43mselect\u001b[49m\u001b[43m(\u001b[49m\u001b[43mcolumn_name_x\u001b[49m\u001b[43m,\u001b[49m\u001b[43m \u001b[49m\u001b[43mcolumn_name_y\u001b[49m\u001b[43m)\u001b[49m\u001b[38;5;241;43m.\u001b[39;49m\u001b[43mtoPandas\u001b[49m\u001b[43m(\u001b[49m\u001b[43m)\u001b[49m\n\u001b[1;32m      8\u001b[0m \u001b[38;5;66;03m# Plot the scatterplot using Plotly\u001b[39;00m\n",
      "File \u001b[0;32m/usr/local/spark/python/pyspark/sql/pandas/conversion.py:202\u001b[0m, in \u001b[0;36mPandasConversionMixin.toPandas\u001b[0;34m(self)\u001b[0m\n\u001b[1;32m    201\u001b[0m \u001b[38;5;66;03m# Below is toPandas without Arrow optimization.\u001b[39;00m\n\u001b[0;32m--> 202\u001b[0m rows \u001b[38;5;241m=\u001b[39m \u001b[38;5;28;43mself\u001b[39;49m\u001b[38;5;241;43m.\u001b[39;49m\u001b[43mcollect\u001b[49m\u001b[43m(\u001b[49m\u001b[43m)\u001b[49m\n\u001b[1;32m    203\u001b[0m \u001b[38;5;28;01mif\u001b[39;00m \u001b[38;5;28mlen\u001b[39m(rows) \u001b[38;5;241m>\u001b[39m \u001b[38;5;241m0\u001b[39m:\n",
      "File \u001b[0;32m/usr/local/spark/python/pyspark/sql/dataframe.py:1258\u001b[0m, in \u001b[0;36mDataFrame.collect\u001b[0;34m(self)\u001b[0m\n\u001b[1;32m   1257\u001b[0m     sock_info \u001b[38;5;241m=\u001b[39m \u001b[38;5;28mself\u001b[39m\u001b[38;5;241m.\u001b[39m_jdf\u001b[38;5;241m.\u001b[39mcollectToPython()\n\u001b[0;32m-> 1258\u001b[0m \u001b[38;5;28;01mreturn\u001b[39;00m \u001b[38;5;28mlist\u001b[39m(_load_from_socket(sock_info, BatchedSerializer(CPickleSerializer())))\n",
      "File \u001b[0;32m/usr/local/spark/python/pyspark/serializers.py:152\u001b[0m, in \u001b[0;36mFramedSerializer.load_stream\u001b[0;34m(self, stream)\u001b[0m\n\u001b[1;32m    151\u001b[0m \u001b[38;5;28;01mtry\u001b[39;00m:\n\u001b[0;32m--> 152\u001b[0m     \u001b[38;5;28;01myield\u001b[39;00m \u001b[38;5;28;43mself\u001b[39;49m\u001b[38;5;241;43m.\u001b[39;49m\u001b[43m_read_with_length\u001b[49m\u001b[43m(\u001b[49m\u001b[43mstream\u001b[49m\u001b[43m)\u001b[49m\n\u001b[1;32m    153\u001b[0m \u001b[38;5;28;01mexcept\u001b[39;00m \u001b[38;5;167;01mEOFError\u001b[39;00m:\n",
      "File \u001b[0;32m/usr/local/spark/python/pyspark/serializers.py:174\u001b[0m, in \u001b[0;36mFramedSerializer._read_with_length\u001b[0;34m(self, stream)\u001b[0m\n\u001b[1;32m    173\u001b[0m     \u001b[38;5;28;01mraise\u001b[39;00m \u001b[38;5;167;01mEOFError\u001b[39;00m\n\u001b[0;32m--> 174\u001b[0m \u001b[38;5;28;01mreturn\u001b[39;00m \u001b[38;5;28;43mself\u001b[39;49m\u001b[38;5;241;43m.\u001b[39;49m\u001b[43mloads\u001b[49m\u001b[43m(\u001b[49m\u001b[43mobj\u001b[49m\u001b[43m)\u001b[49m\n",
      "File \u001b[0;32m/usr/local/spark/python/pyspark/serializers.py:472\u001b[0m, in \u001b[0;36mCloudPickleSerializer.loads\u001b[0;34m(self, obj, encoding)\u001b[0m\n\u001b[1;32m    471\u001b[0m \u001b[38;5;28;01mdef\u001b[39;00m \u001b[38;5;21mloads\u001b[39m(\u001b[38;5;28mself\u001b[39m, obj, encoding\u001b[38;5;241m=\u001b[39m\u001b[38;5;124m\"\u001b[39m\u001b[38;5;124mbytes\u001b[39m\u001b[38;5;124m\"\u001b[39m):\n\u001b[0;32m--> 472\u001b[0m     \u001b[38;5;28;01mreturn\u001b[39;00m cloudpickle\u001b[38;5;241m.\u001b[39mloads(obj, encoding\u001b[38;5;241m=\u001b[39mencoding)\n",
      "File \u001b[0;32m/usr/local/spark/python/pyspark/sql/types.py:2194\u001b[0m, in \u001b[0;36m_create_row_inbound_converter.<locals>.<lambda>\u001b[0;34m(*a)\u001b[0m\n\u001b[1;32m   2193\u001b[0m \u001b[38;5;28;01mdef\u001b[39;00m \u001b[38;5;21m_create_row_inbound_converter\u001b[39m(dataType: DataType) \u001b[38;5;241m-\u001b[39m\u001b[38;5;241m>\u001b[39m Callable:\n\u001b[0;32m-> 2194\u001b[0m     \u001b[38;5;28;01mreturn\u001b[39;00m \u001b[38;5;28;01mlambda\u001b[39;00m \u001b[38;5;241m*\u001b[39ma: \u001b[43mdataType\u001b[49m\u001b[38;5;241;43m.\u001b[39;49m\u001b[43mfromInternal\u001b[49m\u001b[43m(\u001b[49m\u001b[43ma\u001b[49m\u001b[43m)\u001b[49m\n",
      "File \u001b[0;32m/usr/local/spark/python/pyspark/sql/types.py:1093\u001b[0m, in \u001b[0;36mStructType.fromInternal\u001b[0;34m(self, obj)\u001b[0m\n\u001b[1;32m   1092\u001b[0m     values \u001b[38;5;241m=\u001b[39m obj\n\u001b[0;32m-> 1093\u001b[0m \u001b[38;5;28;01mreturn\u001b[39;00m \u001b[43m_create_row\u001b[49m\u001b[43m(\u001b[49m\u001b[38;5;28;43mself\u001b[39;49m\u001b[38;5;241;43m.\u001b[39;49m\u001b[43mnames\u001b[49m\u001b[43m,\u001b[49m\u001b[43m \u001b[49m\u001b[43mvalues\u001b[49m\u001b[43m)\u001b[49m\n",
      "File \u001b[0;32m/usr/local/spark/python/pyspark/sql/types.py:2200\u001b[0m, in \u001b[0;36m_create_row\u001b[0;34m(fields, values)\u001b[0m\n\u001b[1;32m   2197\u001b[0m \u001b[38;5;28;01mdef\u001b[39;00m \u001b[38;5;21m_create_row\u001b[39m(\n\u001b[1;32m   2198\u001b[0m     fields: Union[\u001b[38;5;124m\"\u001b[39m\u001b[38;5;124mRow\u001b[39m\u001b[38;5;124m\"\u001b[39m, List[\u001b[38;5;28mstr\u001b[39m]], values: Union[Tuple[Any, \u001b[38;5;241m.\u001b[39m\u001b[38;5;241m.\u001b[39m\u001b[38;5;241m.\u001b[39m], List[Any]]\n\u001b[1;32m   2199\u001b[0m ) \u001b[38;5;241m-\u001b[39m\u001b[38;5;241m>\u001b[39m \u001b[38;5;124m\"\u001b[39m\u001b[38;5;124mRow\u001b[39m\u001b[38;5;124m\"\u001b[39m:\n\u001b[0;32m-> 2200\u001b[0m     row \u001b[38;5;241m=\u001b[39m \u001b[43mRow\u001b[49m\u001b[43m(\u001b[49m\u001b[38;5;241;43m*\u001b[39;49m\u001b[43mvalues\u001b[49m\u001b[43m)\u001b[49m\n\u001b[1;32m   2201\u001b[0m     row\u001b[38;5;241m.\u001b[39m__fields__ \u001b[38;5;241m=\u001b[39m fields\n",
      "File \u001b[0;32m/usr/local/spark/python/pyspark/sql/types.py:2270\u001b[0m, in \u001b[0;36mRow.__new__\u001b[0;34m(cls, *args, **kwargs)\u001b[0m\n\u001b[1;32m   2268\u001b[0m     \u001b[38;5;241m.\u001b[39m\u001b[38;5;241m.\u001b[39m\u001b[38;5;241m.\u001b[39m\n\u001b[0;32m-> 2270\u001b[0m \u001b[38;5;28;01mdef\u001b[39;00m \u001b[38;5;21m__new__\u001b[39m(\u001b[38;5;28mcls\u001b[39m, \u001b[38;5;241m*\u001b[39margs: Optional[\u001b[38;5;28mstr\u001b[39m], \u001b[38;5;241m*\u001b[39m\u001b[38;5;241m*\u001b[39mkwargs: Optional[Any]) \u001b[38;5;241m-\u001b[39m\u001b[38;5;241m>\u001b[39m \u001b[38;5;124m\"\u001b[39m\u001b[38;5;124mRow\u001b[39m\u001b[38;5;124m\"\u001b[39m:\n\u001b[1;32m   2271\u001b[0m     \u001b[38;5;28;01mif\u001b[39;00m args \u001b[38;5;129;01mand\u001b[39;00m kwargs:\n",
      "\u001b[0;31mKeyboardInterrupt\u001b[0m: ",
      "\nDuring handling of the above exception, another exception occurred:\n",
      "\u001b[0;31mKeyboardInterrupt\u001b[0m                         Traceback (most recent call last)",
      "File \u001b[0;32m/opt/conda/lib/python3.11/site-packages/IPython/core/interactiveshell.py:3547\u001b[0m, in \u001b[0;36mInteractiveShell.run_code\u001b[0;34m(self, code_obj, result, async_)\u001b[0m\n\u001b[1;32m   3545\u001b[0m \u001b[38;5;28;01mexcept\u001b[39;00m:\n\u001b[1;32m   3546\u001b[0m     \u001b[38;5;28;01mif\u001b[39;00m result \u001b[38;5;129;01mis\u001b[39;00m \u001b[38;5;129;01mnot\u001b[39;00m \u001b[38;5;28;01mNone\u001b[39;00m:\n\u001b[0;32m-> 3547\u001b[0m         result\u001b[38;5;241m.\u001b[39merror_in_exec \u001b[38;5;241m=\u001b[39m \u001b[43msys\u001b[49m\u001b[38;5;241;43m.\u001b[39;49m\u001b[43mexc_info\u001b[49m\u001b[43m(\u001b[49m\u001b[43m)\u001b[49m[\u001b[38;5;241m1\u001b[39m]\n\u001b[1;32m   3548\u001b[0m     \u001b[38;5;28mself\u001b[39m\u001b[38;5;241m.\u001b[39mshowtraceback(running_compiled_code\u001b[38;5;241m=\u001b[39m\u001b[38;5;28;01mTrue\u001b[39;00m)\n\u001b[1;32m   3549\u001b[0m \u001b[38;5;28;01melse\u001b[39;00m:\n",
      "\u001b[0;31mKeyboardInterrupt\u001b[0m: "
     ]
    }
   ],
   "source": [
    "plot_scatter(df, 'helpful_votes', 'star_rating')"
   ]
  },
  {
   "cell_type": "code",
   "execution_count": null,
   "metadata": {},
   "outputs": [],
   "source": []
  }
 ],
 "metadata": {
  "anaconda-cloud": {},
  "celltoolbar": "Slideshow",
  "hide_input": false,
  "kernelspec": {
   "display_name": "Python 3 (ipykernel)",
   "language": "python",
   "name": "python3"
  },
  "language_info": {
   "codemirror_mode": {
    "name": "ipython",
    "version": 3
   },
   "file_extension": ".py",
   "mimetype": "text/x-python",
   "name": "python",
   "nbconvert_exporter": "python",
   "pygments_lexer": "ipython3",
   "version": "3.11.6"
  },
  "toc": {
   "base_numbering": 1,
   "nav_menu": {
    "height": "190px",
    "width": "252px"
   },
   "number_sections": true,
   "sideBar": true,
   "skip_h1_title": false,
   "title_cell": "Table of Contents",
   "title_sidebar": "Contents",
   "toc_cell": false,
   "toc_position": {
    "height": "514px",
    "left": "0px",
    "right": "925px",
    "top": "107px",
    "width": "323px"
   },
   "toc_section_display": "block",
   "toc_window_display": false
  }
 },
 "nbformat": 4,
 "nbformat_minor": 4
}
