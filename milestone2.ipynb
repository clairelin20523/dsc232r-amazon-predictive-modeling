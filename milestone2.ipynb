{
 "cells": [
  {
   "cell_type": "markdown",
   "metadata": {
    "slideshow": {
     "slide_type": "slide"
    }
   },
   "source": [
    "## Amazon Review Data : Data Exploration\n",
    "\n",
    "### Setup spark"
   ]
  },
  {
   "cell_type": "code",
   "execution_count": 1,
   "metadata": {},
   "outputs": [],
   "source": [
    "import os, pickle, glob\n",
    "from pyspark.sql import SparkSession\n",
    "from pyspark.sql import SQLContext"
   ]
  },
  {
   "cell_type": "code",
   "execution_count": 2,
   "metadata": {},
   "outputs": [],
   "source": [
    "sc = SparkSession.builder \\\n",
    "    .config(\"spark.driver.memory\", \"16g\") \\\n",
    "\t.config(\"spark.executor.memory\", \"32g\") \\\n",
    "    .config('spark.executor.instances', 4) \\\n",
    "\t.appName(\"Amazon Reviews\") \\\n",
    "\t.getOrCreate()"
   ]
  },
  {
   "cell_type": "code",
   "execution_count": 3,
   "metadata": {},
   "outputs": [
    {
     "name": "stderr",
     "output_type": "stream",
     "text": [
      "/usr/local/spark/python/pyspark/sql/context.py:113: FutureWarning: Deprecated in 3.0.0. Use SparkSession.builder.getOrCreate() instead.\n",
      "  warnings.warn(\n"
     ]
    }
   ],
   "source": [
    "sqlContext = SQLContext(sc)"
   ]
  },
  {
   "cell_type": "markdown",
   "metadata": {
    "slideshow": {
     "slide_type": "subslide"
    }
   },
   "source": [
    "## Read Data\n",
    "\n",
    "### Get files"
   ]
  },
  {
   "cell_type": "code",
   "execution_count": 4,
   "metadata": {},
   "outputs": [],
   "source": [
    "#######################################################################################\n",
    "###################### change path to: \"../clin6/amazon_data\" #########################\n",
    "#######################################################################################\n",
    "path = \"amazon_data\""
   ]
  },
  {
   "cell_type": "code",
   "execution_count": 5,
   "metadata": {},
   "outputs": [],
   "source": [
    "def read(path):\n",
    "    \"\"\"\n",
    "    Method that loads data file as df\n",
    "    Takes in 1 parameter: path\n",
    "    \"\"\"\n",
    "    return sc.read.csv(path, sep = \"\\t\", header = True, inferSchema = True)\n",
    "\n",
    "def get_path(file):\n",
    "    \"\"\"\n",
    "    Method to create path\n",
    "    Takes in 1 parameter: file name\n",
    "    \"\"\"\n",
    "    return \"amazon_data/%s\" % file"
   ]
  },
  {
   "cell_type": "code",
   "execution_count": 6,
   "metadata": {},
   "outputs": [],
   "source": [
    "dir = os.listdir(path)\n",
    "files = [f for f in dir if os.path.isfile(os.path.join(path, f))]"
   ]
  },
  {
   "cell_type": "code",
   "execution_count": 7,
   "metadata": {},
   "outputs": [],
   "source": [
    "def get_df(files):\n",
    "    \"\"\"\n",
    "    Method that combines files into 1 big df\n",
    "    Takes in 1 parameter: list of file names\n",
    "    \"\"\"\n",
    "    df = read(get_path(files[0]))\n",
    "    n = len(files)\n",
    "    for i in range(1, n):\n",
    "        data = read(get_path(files[i]))\n",
    "        df = df.union(data)\n",
    "    return df"
   ]
  },
  {
   "cell_type": "markdown",
   "metadata": {},
   "source": [
    "### Get df and Removing Repetitive/Unnecessary Information"
   ]
  },
  {
   "cell_type": "code",
   "execution_count": 8,
   "metadata": {},
   "outputs": [],
   "source": [
    "df = get_df(files).drop('marketplace', 'vine')\n",
    "sqlContext.registerDataFrameAsTable(df, \"df\")"
   ]
  },
  {
   "cell_type": "markdown",
   "metadata": {},
   "source": [
    "# Data Exploration Start\n",
    "* Perform the data exploration step (i.e. evaluate your data, # of observations, details about your data distributions, scales, missing data, column descriptions) Note: For image data you can still describe your data by the number of classes, # of images, plot example classes of the image, size of images, are sizes uniform? Do they need to be cropped? normalized? etc."
   ]
  },
  {
   "cell_type": "code",
   "execution_count": 9,
   "metadata": {},
   "outputs": [
    {
     "name": "stdout",
     "output_type": "stream",
     "text": [
      "+-----------+--------------+----------+--------------+--------------------+----------------+-----------+-------------+-----------+-----------------+--------------------+--------------------+-----------+\n",
      "|customer_id|     review_id|product_id|product_parent|       product_title|product_category|star_rating|helpful_votes|total_votes|verified_purchase|     review_headline|         review_body|review_date|\n",
      "+-----------+--------------+----------+--------------+--------------------+----------------+-----------+-------------+-----------+-----------------+--------------------+--------------------+-----------+\n",
      "|   36075342| RAB23OVFNCXZQ|B00LPRXQ4Y|     339193102|17\" 2003-2006 For...|      Automotive|          1|            0|          0|                Y|     As it was used,|As it was used, t...| 2015-08-31|\n",
      "|   42462164|R3NORADVJO6IE6|B000C7S0TO|     907684644|Spectra Premium C...|      Automotive|          5|            0|          0|                Y|          Five Stars|Put it in fine, n...| 2015-08-31|\n",
      "|   21241933|R299F4SO98S5OO|B000CO9WE4|     752246352|K&N E-4665 High P...|      Automotive|          5|            1|          1|                Y|Great fit and per...|Fit wonderfully o...| 2015-08-31|\n",
      "|   52570308|R2DA9DOT03UW6I|B000GKD5NI|     105401756|Suncutters Rear W...|      Automotive|          5|            2|          3|                Y|Good for the pric...|Good for the pric...| 2015-08-31|\n",
      "|   38200102|R2OGCH681EQHU6|B009SDA7TE|     728471129|Lug Nuts Landcrui...|      Automotive|          5|            0|          0|                Y|          Five Stars|Fit perfectly on ...| 2015-08-31|\n",
      "+-----------+--------------+----------+--------------+--------------------+----------------+-----------+-------------+-----------+-----------------+--------------------+--------------------+-----------+\n",
      "only showing top 5 rows\n",
      "\n"
     ]
    }
   ],
   "source": [
    "### Show how our data looks like\n",
    "df.show(5)"
   ]
  },
  {
   "cell_type": "code",
   "execution_count": 10,
   "metadata": {
    "slideshow": {
     "slide_type": "slide"
    }
   },
   "outputs": [
    {
     "name": "stdout",
     "output_type": "stream",
     "text": [
      "There is a total of 109830520 observations\n"
     ]
    }
   ],
   "source": [
    "### Total number of observations\n",
    "print('There is a total of %d observations' % df.count())"
   ]
  },
  {
   "cell_type": "code",
   "execution_count": 11,
   "metadata": {},
   "outputs": [
    {
     "name": "stdout",
     "output_type": "stream",
     "text": [
      "Columns:\n",
      "['customer_id', 'review_id', 'product_id', 'product_parent', 'product_title', 'product_category', 'star_rating', 'helpful_votes', 'total_votes', 'verified_purchase', 'review_headline', 'review_body', 'review_date']\n"
     ]
    }
   ],
   "source": [
    "### Get columns\n",
    "columns = df.columns\n",
    "print('Columns:')\n",
    "print(df.columns)"
   ]
  },
  {
   "cell_type": "code",
   "execution_count": 12,
   "metadata": {},
   "outputs": [
    {
     "name": "stdout",
     "output_type": "stream",
     "text": [
      "There is a total of 13 columns\n"
     ]
    }
   ],
   "source": [
    "### Get number of columns\n",
    "num_cols = len(columns)\n",
    "print('There is a total of %d columns' % num_cols)"
   ]
  },
  {
   "cell_type": "code",
   "execution_count": 13,
   "metadata": {},
   "outputs": [
    {
     "name": "stdout",
     "output_type": "stream",
     "text": [
      "'customer_id' column has 0 missing values\n",
      "'review_id' column has 0 missing values\n",
      "'product_id' column has 0 missing values\n",
      "'product_parent' column has 0 missing values\n",
      "'product_title' column has 0 missing values\n",
      "'product_category' column has 1753 missing values\n",
      "'star_rating' column has 1787 missing values\n",
      "'helpful_votes' column has 1794 missing values\n",
      "'total_votes' column has 1794 missing values\n",
      "'verified_purchase' column has 1794 missing values\n",
      "'review_headline' column has 2044 missing values\n",
      "'review_body' column has 12438 missing values\n",
      "'review_date' column has 8243 missing values\n"
     ]
    }
   ],
   "source": [
    "### Get number of missing values for each column\n",
    "for i in range(num_cols):\n",
    "    missing = df.filter(df[columns[i]].isNull()).count()\n",
    "    print(\"'%s' column has %d missing values\" % (columns[i], missing))"
   ]
  },
  {
   "cell_type": "code",
   "execution_count": 14,
   "metadata": {},
   "outputs": [
    {
     "name": "stdout",
     "output_type": "stream",
     "text": [
      "'customer_id' column is of type 'int'\n",
      "'review_id' column is of type 'string'\n",
      "'product_id' column is of type 'string'\n",
      "'product_parent' column is of type 'int'\n",
      "'product_title' column is of type 'string'\n",
      "'product_category' column is of type 'string'\n",
      "'star_rating' column is of type 'string'\n",
      "'helpful_votes' column is of type 'int'\n",
      "'total_votes' column is of type 'int'\n",
      "'verified_purchase' column is of type 'string'\n",
      "'review_headline' column is of type 'string'\n",
      "'review_body' column is of type 'string'\n",
      "'review_date' column is of type 'date'\n"
     ]
    }
   ],
   "source": [
    "data_types = df.dtypes\n",
    "for i in range(num_cols):\n",
    "    print(\"'%s' column is of type '%s'\" % (data_types[i][0], data_types[i][1]))"
   ]
  },
  {
   "cell_type": "code",
   "execution_count": 15,
   "metadata": {},
   "outputs": [
    {
     "name": "stdout",
     "output_type": "stream",
     "text": [
      "+-------+--------------------+--------------+--------------------+--------------------+--------------------+--------------------+-----------------+------------------+-----------------+-----------------+--------------------+--------------------+\n",
      "|summary|         customer_id|     review_id|          product_id|      product_parent|       product_title|    product_category|      star_rating|     helpful_votes|      total_votes|verified_purchase|     review_headline|         review_body|\n",
      "+-------+--------------------+--------------+--------------------+--------------------+--------------------+--------------------+-----------------+------------------+-----------------+-----------------+--------------------+--------------------+\n",
      "|  count|           109830520|     109830520|           109830520|           109830520|           109830520|           109828767|        109828733|         109828726|        109828726|        109828726|           109828476|           109818082|\n",
      "|   mean| 2.839009893062129E7|          NULL| 1.357695719170706E9| 4.998888166941156E8|                 NaN|                NULL|4.171742636803417| 1.910618466065062|2.580553807024949|             NULL|                 NaN|            Infinity|\n",
      "| stddev|1.5720516781263575E7|          NULL|1.8577132181756115E9|2.8863020471450216E8|                 NaN|                NULL|   1.278819867578|21.633604256060373|23.56154125612758|             NULL|                 NaN|                 NaN|\n",
      "|    min|               10001|R100007TERQ36I|          0000000078|                 222|        Fine in Time|          2002-08-07|                1|                 0|                0|                N|\\tAll was good :)...|\u0002________________...|\n",
      "|    max|            53096592| RZZZZYOFYZ829|          BT00IU6O8K|           999999945|🌴 Vacation On Th...|\\\\\"Red Spring Blo...|                5|             47524|            48362|                Y|🤹🏽‍♂️🎤Great pr...|🛅🚑🚚🚏🚙🚈🚘🚈?...|\n",
      "+-------+--------------------+--------------+--------------------+--------------------+--------------------+--------------------+-----------------+------------------+-----------------+-----------------+--------------------+--------------------+\n",
      "\n"
     ]
    }
   ],
   "source": [
    "### Show data distributions\n",
    "df.describe().show()"
   ]
  },
  {
   "cell_type": "code",
   "execution_count": 16,
   "metadata": {},
   "outputs": [
    {
     "ename": "SyntaxError",
     "evalue": "'(' was never closed (415290016.py, line 4)",
     "output_type": "error",
     "traceback": [
      "\u001b[0;36m  Cell \u001b[0;32mIn[16], line 4\u001b[0;36m\u001b[0m\n\u001b[0;31m    columns = df.columns.broadcast((\u001b[0m\n\u001b[0m                                   ^\u001b[0m\n\u001b[0;31mSyntaxError\u001b[0m\u001b[0;31m:\u001b[0m '(' was never closed\n"
     ]
    }
   ],
   "source": [
    "df = df.select([col for col in df.columns if col not in ['marketplace', 'vine']]).cache()\n",
    "\n",
    "### var after updated df\n",
    "columns = df.columns.broadcast((\n",
    "num_cols = len(columns)"
   ]
  },
  {
   "cell_type": "code",
   "execution_count": null,
   "metadata": {},
   "outputs": [],
   "source": [
    "### Get number of missing values for each column\n",
    "for i in range(num_cols):\n",
    "    missing = df.filter(df[columns[i]].isNull()).count()\n",
    "    print(\"'%s' column has %d missing values\" % (columns[i], missing))"
   ]
  },
  {
   "cell_type": "code",
   "execution_count": null,
   "metadata": {},
   "outputs": [],
   "source": [
    "data_types = df.dtypes\n",
    "for i in range(num_cols):\n",
    "    print(\"'%s' column is of type '%s'\" % (data_types[i][0], data_types[i][1]))"
   ]
  },
  {
   "cell_type": "code",
   "execution_count": null,
   "metadata": {},
   "outputs": [],
   "source": [
    "### Show data distributions\n",
    "df.describe().show()"
   ]
  },
  {
   "cell_type": "code",
   "execution_count": null,
   "metadata": {},
   "outputs": [],
   "source": [
    "### Check for duplicates\n",
    "df.groupBy(columns).count().where('count > 1').show()"
   ]
  },
  {
   "cell_type": "code",
   "execution_count": 17,
   "metadata": {},
   "outputs": [],
   "source": [
    "### Check for duplicates\n",
    "#duplicate_rows = df.groupBy(columns).count().where('count > 1')\n",
    "#duplicate_rows.show()"
   ]
  },
  {
   "cell_type": "markdown",
   "metadata": {},
   "source": [
    "# Plot\n",
    "reference:\n",
    "https://plotly.com/python/v3/apache-spark/"
   ]
  },
  {
   "cell_type": "code",
   "execution_count": 18,
   "metadata": {},
   "outputs": [
    {
     "data": {
      "text/html": [
       "        <script type=\"text/javascript\">\n",
       "        window.PlotlyConfig = {MathJaxConfig: 'local'};\n",
       "        if (window.MathJax && window.MathJax.Hub && window.MathJax.Hub.Config) {window.MathJax.Hub.Config({SVG: {font: \"STIX-Web\"}});}\n",
       "        if (typeof require !== 'undefined') {\n",
       "        require.undef(\"plotly\");\n",
       "        requirejs.config({\n",
       "            paths: {\n",
       "                'plotly': ['https://cdn.plot.ly/plotly-2.32.0.min']\n",
       "            }\n",
       "        });\n",
       "        require(['plotly'], function(Plotly) {\n",
       "            window._Plotly = Plotly;\n",
       "        });\n",
       "        }\n",
       "        </script>\n",
       "        "
      ]
     },
     "metadata": {},
     "output_type": "display_data"
    }
   ],
   "source": [
    "### Import libraries to plot\n",
    "import plotly.offline as py\n",
    "import plotly.graph_objs as go\n",
    "from plotly.offline import iplot\n",
    "py.init_notebook_mode(connected = True)\n",
    "\n",
    "from pyspark.sql.functions import col"
   ]
  },
  {
   "cell_type": "markdown",
   "metadata": {},
   "source": [
    "# Methods to plot"
   ]
  },
  {
   "cell_type": "code",
   "execution_count": 19,
   "metadata": {},
   "outputs": [],
   "source": [
    "def plot(title, data):\n",
    "    \"\"\"\n",
    "    Helper method to plot\n",
    "    Takes in two paramaters: title, data\n",
    "    \"\"\"\n",
    "    layout = go.Layout(title = title)                       # Create layout\n",
    "    fig = go.Figure(data = data, layout = layout)           # Create figure\n",
    "    iplot(fig)                                              # Plot figure"
   ]
  },
  {
   "cell_type": "code",
   "execution_count": 20,
   "metadata": {},
   "outputs": [],
   "source": [
    "def plot_histogram(df, i):\n",
    "    \"\"\"\n",
    "    Method to plot histogram of column\n",
    "    Takes in two parameters: df, column index\n",
    "    \"\"\"\n",
    "    column_name = columns[i]                                # Get column name and data\n",
    "    data = [go.Histogram(x = df.select(col(column_name)).rdd.flatMap(lambda x: x).collect())]\n",
    "    title = 'Histogram of %s' % columns[i]                  # Set title\n",
    "    plot(title, data)                                       # Use helper method to plot"
   ]
  },
  {
   "cell_type": "code",
   "execution_count": 21,
   "metadata": {},
   "outputs": [],
   "source": [
    "def plot_piechart(df, i):\n",
    "    \"\"\"\n",
    "    Method to plot pie chart of column\n",
    "    Takes in two parameters: df, column index\n",
    "    \"\"\"\n",
    "    column_name = columns[i]                                                      # Get column name\n",
    "    counts = df.select(col(column_name)).groupBy(column_name).count().toPandas()  # Get counts\n",
    "    data = [go.Pie(labels = counts[column_name], values = counts['count'])]       # Get data\n",
    "    title = 'Pie Chart of %s' % columns[i]                                        # Set title\n",
    "    plot(title, data)                                       # Use helper method to plot"
   ]
  },
  {
   "cell_type": "code",
   "execution_count": 22,
   "metadata": {},
   "outputs": [],
   "source": [
    "def plot_barplot(df, i):\n",
    "    \"\"\"\n",
    "    Method to plot bar plot of column\n",
    "    Takes in one parameter: column index\n",
    "    \"\"\"\n",
    "    column_name = columns[i]                                                      # Get column name \n",
    "    counts = df.select(col(column_name)).groupBy(column_name).count().toPandas()  # Get counts\n",
    "    data = [go.Bar(x = counts[column_name], y = counts['count'])]                 # Get data    \n",
    "    title = 'Bar Plot of %s' % columns[i]                                         # Set title\n",
    "    plot(title, data)                                       # Use helper method to plot"
   ]
  },
  {
   "cell_type": "code",
   "execution_count": 23,
   "metadata": {},
   "outputs": [],
   "source": [
    "def plot_boxplot(df, i):\n",
    "    \"\"\"\n",
    "    Method to plot box plot of column\n",
    "    Takes in two parameters: df, column index\n",
    "    \"\"\"\n",
    "    column_name = columns[i]                                # Get column name and data\n",
    "    data = [go.Box(y = df.select(column_name).sample(False, 0.1).rdd.flatMap(lambda x: x).collect())]\n",
    "    title = 'Box plot of %s' % column_name                  # Set title\n",
    "    plot(title, data)                                       # Use helper method to plot"
   ]
  },
  {
   "cell_type": "code",
   "execution_count": 24,
   "metadata": {},
   "outputs": [],
   "source": [
    "def plot_boxplot_no_outliers(df, i):\n",
    "    \"\"\"\n",
    "    Method to plot box plot of column after removing outliers\n",
    "    Takes in two parameters: df, column index\n",
    "    \"\"\"\n",
    "    column_name = columns[i]                                             # Get column name\n",
    "    quartiles = df.approxQuantile(column_name, [0.25, 0.75], 0.01)       # Calculate quartiles\n",
    "    q1 = quartiles[0]\n",
    "    q3 = quartiles[1]\n",
    "    iqr = q3 - q1                                                        # Calculate iqr\n",
    "    lower_bound = q1 - 1.5 * iqr                                         # Define bounds\n",
    "    upper_bound = q3 + 1.5 * iqr\n",
    "    \n",
    "    # Remove outliers\n",
    "    column_data_no_outliers = df.filter((col(column_name) >= lower_bound) & (col(column_name) <= upper_bound))\n",
    "    \n",
    "    # Filter data\n",
    "    data = [go.Box(y = column_data_no_outliers.select(column_name).sample(False, 0.1).rdd.flatMap(lambda x: x).collect())]\n",
    "    \n",
    "    title = 'Box plot of %s (Outliers Removed)' % columns[i]             # Set title\n",
    "    plot(title, data)                                                    # Use helper method to plot"
   ]
  },
  {
   "cell_type": "markdown",
   "metadata": {},
   "source": [
    "## Analysis"
   ]
  },
  {
   "cell_type": "code",
   "execution_count": null,
   "metadata": {},
   "outputs": [],
   "source": [
    "### CHANGE COLUMN INDEX TO PLOT\n",
    "i = 7\n",
    "plot_histogram(df, i)"
   ]
  },
  {
   "cell_type": "markdown",
   "metadata": {},
   "source": [
    "* There are clearly noticeable high outliers, which conceal the visibility of the distribution\n",
    "* Lets look at a boxplot"
   ]
  },
  {
   "cell_type": "code",
   "execution_count": null,
   "metadata": {},
   "outputs": [],
   "source": [
    "### CHANGE COLUMN INDEX TO PLOT\n",
    "i = 7\n",
    "plot_boxplot(df, i)"
   ]
  },
  {
   "cell_type": "markdown",
   "metadata": {},
   "source": [
    "* Indeed we see many high outliers"
   ]
  },
  {
   "cell_type": "code",
   "execution_count": null,
   "metadata": {},
   "outputs": [],
   "source": [
    "### CHANGE COLUMN INDEX TO PLOT\n",
    "i = 7\n",
    "plot_boxplot_no_outliers(df, i)"
   ]
  },
  {
   "cell_type": "markdown",
   "metadata": {},
   "source": [
    "* Outliers removed box plot, we see most reviews have no votes"
   ]
  },
  {
   "cell_type": "code",
   "execution_count": null,
   "metadata": {},
   "outputs": [],
   "source": [
    "### CHANGE COLUMN INDEX TO PLOT\n",
    "i = 6\n",
    "plot_barplot(df, i)"
   ]
  },
  {
   "cell_type": "markdown",
   "metadata": {},
   "source": [
    "* Majority of ratings given are 5 stars\n",
    "* Second most given rating is 1 but still much less than 5\n",
    "* Increased ratings from 2 to 5 stars"
   ]
  },
  {
   "cell_type": "markdown",
   "metadata": {},
   "source": [
    "# Look at category proportions"
   ]
  },
  {
   "cell_type": "code",
   "execution_count": null,
   "metadata": {},
   "outputs": [],
   "source": [
    "### CHANGE COLUMN INDEX TO PLOT\n",
    "i = 6\n",
    "plot_piechart(df, i)"
   ]
  },
  {
   "cell_type": "markdown",
   "metadata": {},
   "source": [
    "# Compare purchase counts by year"
   ]
  },
  {
   "cell_type": "code",
   "execution_count": null,
   "metadata": {},
   "outputs": [],
   "source": [
    "from pyspark.sql.functions import year, substring\n",
    "import matplotlib.pyplot as plt\n",
    "\n",
    "\n",
    "def plot_purchase_counts(df, df_name, target_year):\n",
    "    \"\"\"\n",
    "    Plot the purchase counts for a given DataFrame and year.\n",
    "\n",
    "    Args:\n",
    "    - df: The DataFrame containing the review data.\n",
    "    - target_year: The year for which purchase counts will be plotted.\n",
    "    - df_name: The name of the DataFrame.\n",
    "\n",
    "    Returns:\n",
    "    - None\n",
    "    \"\"\"\n",
    "    # Filter the DataFrame to include only rows from the specified year\n",
    "    df_year = df.filter(year(df['review_date']) == target_year)\n",
    "\n",
    "    # Extract the month from the 'review_date' column\n",
    "    df_year = df_year.withColumn('review_month', substring(df_year['review_date'], 6, 2))\n",
    "\n",
    "    # Count the number of purchases for each month\n",
    "    purchase_counts = df_year.groupby('review_month').count().orderBy('review_month')\n",
    "\n",
    "    # Plot the counts using a bar plot\n",
    "    plt.figure(figsize=(10, 6))\n",
    "    plt.bar(purchase_counts.toPandas()['review_month'], purchase_counts.toPandas()['count'])\n",
    "    plt.title(f'Purchase Counts for {df_name} Year {target_year}')\n",
    "    plt.xlabel('Month')\n",
    "    plt.ylabel('Number of Purchases')\n",
    "    plt.show()"
   ]
  },
  {
   "cell_type": "code",
   "execution_count": null,
   "metadata": {
    "scrolled": true
   },
   "outputs": [],
   "source": [
    "plot_purchase_counts(df, \"df\", 2015)\n",
    "plot_purchase_counts(df, \"df\", 1999)"
   ]
  },
  {
   "cell_type": "code",
   "execution_count": null,
   "metadata": {},
   "outputs": [],
   "source": []
  }
 ],
 "metadata": {
  "anaconda-cloud": {},
  "celltoolbar": "Slideshow",
  "hide_input": false,
  "kernelspec": {
   "display_name": "Python 3 (ipykernel)",
   "language": "python",
   "name": "python3"
  },
  "language_info": {
   "codemirror_mode": {
    "name": "ipython",
    "version": 3
   },
   "file_extension": ".py",
   "mimetype": "text/x-python",
   "name": "python",
   "nbconvert_exporter": "python",
   "pygments_lexer": "ipython3",
   "version": "3.11.6"
  },
  "toc": {
   "base_numbering": 1,
   "nav_menu": {
    "height": "190px",
    "width": "252px"
   },
   "number_sections": true,
   "sideBar": true,
   "skip_h1_title": false,
   "title_cell": "Table of Contents",
   "title_sidebar": "Contents",
   "toc_cell": false,
   "toc_position": {
    "height": "514px",
    "left": "0px",
    "right": "925px",
    "top": "107px",
    "width": "323px"
   },
   "toc_section_display": "block",
   "toc_window_display": false
  }
 },
 "nbformat": 4,
 "nbformat_minor": 4
}
