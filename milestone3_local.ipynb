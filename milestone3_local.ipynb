{
 "cells": [
  {
   "cell_type": "markdown",
   "metadata": {
    "slideshow": {
     "slide_type": "slide"
    }
   },
   "source": [
    "## Amazon Review Data : Data Exploration\n",
    "\n",
    "### Setup spark"
   ]
  },
  {
   "cell_type": "code",
   "execution_count": 53,
   "metadata": {},
   "outputs": [],
   "source": [
    "# Import libraries\n",
    "import os, pickle, glob\n",
    "import matplotlib.pyplot as plt\n",
    "\n",
    "from pyspark.sql import SparkSession, SQLContext, DataFrame\n",
    "from pyspark.sql.types import StringType\n",
    "import pyspark.sql.functions as F\n",
    "\n",
    "from pyspark.ml import Pipeline\n",
    "from pyspark.ml.stat import Summarizer\n",
    "from pyspark.ml.feature import Word2Vec, Tokenizer, StringIndexer, OneHotEncoder, PCA, VectorAssembler"
   ]
  },
  {
   "cell_type": "code",
   "execution_count": 54,
   "metadata": {},
   "outputs": [],
   "source": [
    "sc = SparkSession.builder \\\n",
    "    .config(\"spark.driver.memory\", \"128g\") \\\n",
    "\t.config(\"spark.executor.memory\", \"64g\") \\\n",
    "    .config('spark.executor.instances', 64) \\\n",
    "\t.appName(\"Amazon Reviews\") \\\n",
    "\t.getOrCreate()"
   ]
  },
  {
   "cell_type": "code",
   "execution_count": 55,
   "metadata": {},
   "outputs": [],
   "source": [
    "sqlContext = SQLContext(sc)"
   ]
  },
  {
   "cell_type": "markdown",
   "metadata": {
    "slideshow": {
     "slide_type": "subslide"
    }
   },
   "source": [
    "## Read Data\n",
    "\n",
    "### Get files"
   ]
  },
  {
   "cell_type": "code",
   "execution_count": 56,
   "metadata": {},
   "outputs": [],
   "source": [
    "#######################################################################################\n",
    "###################### change path to: \"../clin6/amazon_data\" #########################\n",
    "#######################################################################################\n",
    "# path = \"../clin6/amazon_data\"\n",
    "path = \"amazon_data\""
   ]
  },
  {
   "cell_type": "code",
   "execution_count": 57,
   "metadata": {},
   "outputs": [],
   "source": [
    "def read(path):\n",
    "    \"\"\"\n",
    "    Method that loads data file as df\n",
    "    Takes in 1 parameter: path\n",
    "    \"\"\"\n",
    "    return sc.read.csv(path, sep = \"\\t\", header = True, inferSchema = True)\n",
    "\n",
    "def get_path(file):\n",
    "    \"\"\"\n",
    "    Method to create path\n",
    "    Takes in 1 parameter: file name\n",
    "    \"\"\"\n",
    "    return \"amazon_data/%s\" % file"
   ]
  },
  {
   "cell_type": "code",
   "execution_count": 58,
   "metadata": {},
   "outputs": [],
   "source": [
    "dir = os.listdir(path)\n",
    "files = [f for f in dir if os.path.isfile(os.path.join(path, f))]"
   ]
  },
  {
   "cell_type": "code",
   "execution_count": 59,
   "metadata": {},
   "outputs": [
    {
     "data": {
      "text/plain": [
       "['amazon_reviews_us_Mobile_Electronics_v1_00.tsv',\n",
       " 'amazon_reviews_us_Gift_Card_v1_00.tsv']"
      ]
     },
     "execution_count": 59,
     "metadata": {},
     "output_type": "execute_result"
    }
   ],
   "source": [
    "files"
   ]
  },
  {
   "cell_type": "markdown",
   "metadata": {},
   "source": [
    "def get_df(files):\n",
    "    \"\"\"\n",
    "    Method that combines files into 1 big df\n",
    "    Takes in 1 parameter: list of file names\n",
    "    \"\"\"\n",
    "    df = None\n",
    "    n = len(files)\n",
    "    for i in range(n):\n",
    "        data = read(get_path(files[i]))\n",
    "        if df is None:\n",
    "            df = data\n",
    "        else:\n",
    "            df = df.union(data)\n",
    "    return df"
   ]
  },
  {
   "cell_type": "markdown",
   "metadata": {},
   "source": [
    "# Data Preprocessing\n",
    "* Finish major preprocessing, this includes scaling and/or transforming your data, imputing your data, encoding your data, feature expansion, Feature expansion (example is taking features and generating new features by transforming via polynomial, log multiplication of features)."
   ]
  },
  {
   "cell_type": "code",
   "execution_count": 60,
   "metadata": {},
   "outputs": [],
   "source": [
    "product_category_column = 'product_category'\n",
    "review_body_column = 'review_body'\n",
    "review_date_column = 'review_date'\n",
    "title_column = 'product_title'\n",
    "category_column = 'product_category'\n",
    "product_parent_column = 'product_parent'\n",
    "review_body_column = 'review_body'\n",
    "verified_purchase_column = 'verified_purchase'\n",
    "\n",
    "product_category_col = F.col(product_category_column)\n",
    "review_body_col = F.col(review_body_column)\n",
    "review_date_col = F.col(review_date_column)\n",
    "title_col = F.col(title_column)\n",
    "category_col = F.col(category_column)\n",
    "product_parent_col = F.col(product_parent_column)\n",
    "review_body_col = F.col(review_body_column)\n",
    "verified_purchase_col = F.col(verified_purchase_column)"
   ]
  },
  {
   "cell_type": "markdown",
   "metadata": {},
   "source": [
    "## Load Data & Take care of missing categories"
   ]
  },
  {
   "cell_type": "code",
   "execution_count": 61,
   "metadata": {},
   "outputs": [],
   "source": [
    "def get_imputed_df(files, category = True):\n",
    "    \"\"\"\n",
    "    Method that combines files into 1 big df\n",
    "    Takes in 1 parameter: list of file names\n",
    "    \"\"\"\n",
    "    df = None\n",
    "    n = len(files)\n",
    "    categories = {}\n",
    "    for i in range(n):\n",
    "        data = read(get_path(files[i]))\n",
    "        \n",
    "        # Fill in null categories\n",
    "        if category:\n",
    "            cat = files[i][18:-10]\n",
    "            categories[cat] = i\n",
    "            data = data.withColumn(product_category_column,\n",
    "                                   product_category_col).fillna(cat)\n",
    "        \n",
    "        if df is None:\n",
    "            df = data\n",
    "        else:\n",
    "            df = df.union(data)\n",
    "    return df, categories"
   ]
  },
  {
   "cell_type": "markdown",
   "metadata": {},
   "source": [
    "## Get df & Remove Columns"
   ]
  },
  {
   "cell_type": "code",
   "execution_count": 62,
   "metadata": {},
   "outputs": [
    {
     "name": "stderr",
     "output_type": "stream",
     "text": [
      "                                                                                \r"
     ]
    }
   ],
   "source": [
    "df, categories = get_imputed_df(files)\n",
    "df = df.drop('marketplace', 'vine').cache()"
   ]
  },
  {
   "cell_type": "code",
   "execution_count": 63,
   "metadata": {},
   "outputs": [],
   "source": [
    "sqlContext.registerDataFrameAsTable(df, \"df\")"
   ]
  },
  {
   "cell_type": "code",
   "execution_count": 64,
   "metadata": {},
   "outputs": [],
   "source": [
    "columns = df.columns\n",
    "num_cols = len(columns)"
   ]
  },
  {
   "cell_type": "code",
   "execution_count": 65,
   "metadata": {},
   "outputs": [
    {
     "data": {
      "text/plain": [
       "DataFrame[customer_id: int, review_id: string, product_id: string, product_parent: int, product_title: string, product_category: string, star_rating: int, helpful_votes: int, total_votes: int, verified_purchase: string, review_headline: string, review_body: string, review_date: date]"
      ]
     },
     "execution_count": 65,
     "metadata": {},
     "output_type": "execute_result"
    }
   ],
   "source": [
    "df"
   ]
  },
  {
   "cell_type": "markdown",
   "metadata": {},
   "source": [
    "## Filter out rows with missing body and date and verified purchase"
   ]
  },
  {
   "cell_type": "code",
   "execution_count": 66,
   "metadata": {},
   "outputs": [],
   "source": [
    "df = df.filter(review_body_col.isNotNull() & review_date_col.isNotNull())\n",
    "df = df.filter(verified_purchase_col == True)"
   ]
  },
  {
   "cell_type": "code",
   "execution_count": 67,
   "metadata": {},
   "outputs": [
    {
     "name": "stderr",
     "output_type": "stream",
     "text": [
      "                                                                                \r"
     ]
    },
    {
     "data": {
      "text/plain": [
       "[Row(customer_id=20422322, review_id='R8MEA6IGAHO0B', product_id='B00MC4CED8', product_parent=217304173, product_title='BlackVue DR600GW-PMP', product_category='Mobile_Electronics', star_rating=5, helpful_votes=0, total_votes=0, verified_purchase='Y', review_headline='Very Happy!', review_body=\"As advertised. Everything works perfectly, I'm very happy with the camera. As a matter of fact I'm going to buy another one for my 2nd car.\", review_date=datetime.date(2015, 8, 31))]"
      ]
     },
     "execution_count": 67,
     "metadata": {},
     "output_type": "execute_result"
    }
   ],
   "source": [
    "df.head(1)"
   ]
  },
  {
   "cell_type": "code",
   "execution_count": 68,
   "metadata": {},
   "outputs": [
    {
     "name": "stdout",
     "output_type": "stream",
     "text": [
      "+----------+----------+\n",
      "|  min_date|  max_date|\n",
      "+----------+----------+\n",
      "|2002-10-27|2015-08-31|\n",
      "+----------+----------+\n",
      "\n"
     ]
    }
   ],
   "source": [
    "# Select the review_date column\n",
    "review_date_col = F.col('review_date')\n",
    "\n",
    "# Find the minimum and maximum dates\n",
    "min_max_dates = df.agg(F.min(review_date_col).alias('min_date'), \n",
    "                       F.max(review_date_col).alias('max_date'))\n",
    "\n",
    "min_max_dates.show()"
   ]
  },
  {
   "cell_type": "markdown",
   "metadata": {},
   "source": [
    "## Filter out old data"
   ]
  },
  {
   "cell_type": "code",
   "execution_count": 69,
   "metadata": {},
   "outputs": [
    {
     "data": {
      "text/plain": [
       "[Row(customer_id=20422322, review_id='R8MEA6IGAHO0B', product_id='B00MC4CED8', product_parent=217304173, product_title='BlackVue DR600GW-PMP', product_category='Mobile_Electronics', star_rating=5, helpful_votes=0, total_votes=0, verified_purchase='Y', review_headline='Very Happy!', review_body=\"As advertised. Everything works perfectly, I'm very happy with the camera. As a matter of fact I'm going to buy another one for my 2nd car.\", review_date=datetime.date(2015, 8, 31))]"
      ]
     },
     "execution_count": 69,
     "metadata": {},
     "output_type": "execute_result"
    }
   ],
   "source": [
    "# Data before 2010 is more irrelevent to forcaste future trends. \n",
    "df = df.filter(F.year(review_date_col) >= 2010)\n",
    "df.head(1)"
   ]
  },
  {
   "cell_type": "markdown",
   "metadata": {},
   "source": [
    "## Check other missing values"
   ]
  },
  {
   "cell_type": "code",
   "execution_count": 70,
   "metadata": {},
   "outputs": [
    {
     "name": "stdout",
     "output_type": "stream",
     "text": [
      "'customer_id' column has 0 missing values\n",
      "'review_id' column has 0 missing values\n",
      "'product_id' column has 0 missing values\n",
      "'product_parent' column has 0 missing values\n",
      "'product_title' column has 0 missing values\n",
      "'product_category' column has 0 missing values\n",
      "'star_rating' column has 0 missing values\n",
      "'helpful_votes' column has 0 missing values\n",
      "'total_votes' column has 0 missing values\n",
      "'verified_purchase' column has 0 missing values\n",
      "'review_headline' column has 0 missing values\n",
      "'review_body' column has 0 missing values\n",
      "'review_date' column has 0 missing values\n"
     ]
    }
   ],
   "source": [
    "for i in range(num_cols):\n",
    "    missing = df.filter(df[columns[i]].isNull()).count()\n",
    "    print(\"'%s' column has %d missing values\" % (columns[i], missing))"
   ]
  },
  {
   "cell_type": "markdown",
   "metadata": {},
   "source": [
    "* No more missing values"
   ]
  },
  {
   "cell_type": "markdown",
   "metadata": {},
   "source": [
    "## Extract month and year"
   ]
  },
  {
   "cell_type": "code",
   "execution_count": 71,
   "metadata": {},
   "outputs": [],
   "source": [
    "month_column = 'month'\n",
    "year_column = 'year'"
   ]
  },
  {
   "cell_type": "code",
   "execution_count": 72,
   "metadata": {},
   "outputs": [
    {
     "data": {
      "text/plain": [
       "[Row(customer_id=20422322, review_id='R8MEA6IGAHO0B', product_id='B00MC4CED8', product_parent=217304173, product_title='BlackVue DR600GW-PMP', product_category='Mobile_Electronics', star_rating=5, helpful_votes=0, total_votes=0, verified_purchase='Y', review_headline='Very Happy!', review_body=\"As advertised. Everything works perfectly, I'm very happy with the camera. As a matter of fact I'm going to buy another one for my 2nd car.\", review_date=datetime.date(2015, 8, 31), month=8, year=2015)]"
      ]
     },
     "execution_count": 72,
     "metadata": {},
     "output_type": "execute_result"
    }
   ],
   "source": [
    "df = df.withColumn(month_column, F.month(review_date_col)).withColumn(year_column, F.year(review_date_col))\n",
    "df.head(1)"
   ]
  },
  {
   "cell_type": "code",
   "execution_count": 73,
   "metadata": {},
   "outputs": [
    {
     "name": "stdout",
     "output_type": "stream",
     "text": [
      "Count of review_date in December 2014: 7510\n"
     ]
    }
   ],
   "source": [
    "from pyspark.sql.functions import year, month, col, date_format,count\n",
    "\n",
    "# Assuming your DataFrame is called 'df'\n",
    "\n",
    "# Filter the DataFrame for rows where the month is December and the year is 2014\n",
    "df_dec_2014 = df.filter((year(df['review_date']) == 2014) & (month(df['review_date']) == 12))\n",
    "\n",
    "# Count the number of rows\n",
    "count_dec_2014 = df_dec_2014.count()\n",
    "\n",
    "print(\"Count of review_date in December 2014:\", count_dec_2014)"
   ]
  },
  {
   "cell_type": "markdown",
   "metadata": {},
   "source": [
    "## Encode Categorical Columns"
   ]
  },
  {
   "cell_type": "markdown",
   "metadata": {},
   "source": [
    "### Match category to numbers"
   ]
  },
  {
   "cell_type": "code",
   "execution_count": 74,
   "metadata": {},
   "outputs": [],
   "source": [
    "category_num_col = 'product_category_num'"
   ]
  },
  {
   "cell_type": "code",
   "execution_count": 75,
   "metadata": {},
   "outputs": [],
   "source": [
    "def translate(dic): \n",
    "    return F.udf(lambda x: dic.get(x), StringType()) "
   ]
  },
  {
   "cell_type": "code",
   "execution_count": 76,
   "metadata": {},
   "outputs": [],
   "source": [
    "df = df.withColumn(category_num_col, translate(categories)(category_col))"
   ]
  },
  {
   "cell_type": "markdown",
   "metadata": {},
   "source": [
    "### Change title into vectors"
   ]
  },
  {
   "cell_type": "code",
   "execution_count": 77,
   "metadata": {},
   "outputs": [],
   "source": [
    "titleArray_column = 'titleArray'\n",
    "titleVector_column = 'titleVector'"
   ]
  },
  {
   "cell_type": "code",
   "execution_count": 78,
   "metadata": {},
   "outputs": [],
   "source": [
    "df = df.withColumn(titleArray_column, F.split(F.lower(F.col(title_column)), ' '))"
   ]
  },
  {
   "cell_type": "code",
   "execution_count": 79,
   "metadata": {},
   "outputs": [
    {
     "name": "stderr",
     "output_type": "stream",
     "text": [
      "                                                                                \r"
     ]
    }
   ],
   "source": [
    "word2vec = Word2Vec(inputCol = titleArray_column, outputCol = titleVector_column,\n",
    "                    minCount = 100, vectorSize = 16, numPartitions = 4)\n",
    "model = word2vec.fit(df)\n",
    "df = model.transform(df)"
   ]
  },
  {
   "cell_type": "markdown",
   "metadata": {},
   "source": [
    "### Change text into vectors"
   ]
  },
  {
   "cell_type": "code",
   "execution_count": 80,
   "metadata": {},
   "outputs": [],
   "source": [
    "reviewArray_column = 'reviewArray'\n",
    "reviewVector_column = 'reviewVector'"
   ]
  },
  {
   "cell_type": "code",
   "execution_count": 81,
   "metadata": {},
   "outputs": [],
   "source": [
    "df = df.withColumn(reviewArray_column, F.split(F.lower(F.col(review_body_column)), ' '))"
   ]
  },
  {
   "cell_type": "code",
   "execution_count": 82,
   "metadata": {},
   "outputs": [
    {
     "name": "stderr",
     "output_type": "stream",
     "text": [
      "                                                                                \r"
     ]
    }
   ],
   "source": [
    "word2vec = Word2Vec(inputCol = reviewArray_column, outputCol = reviewVector_column,\n",
    "                    minCount = 100, vectorSize = 16, numPartitions = 4)\n",
    "model = word2vec.fit(df)\n",
    "df = model.transform(df)"
   ]
  },
  {
   "cell_type": "code",
   "execution_count": 83,
   "metadata": {},
   "outputs": [],
   "source": [
    "# remove stop words\n",
    "# get the most repeated words "
   ]
  },
  {
   "cell_type": "code",
   "execution_count": 84,
   "metadata": {},
   "outputs": [
    {
     "name": "stderr",
     "output_type": "stream",
     "text": [
      "\r",
      "[Stage 163:>                                                        (0 + 1) / 1]\r",
      "\r",
      "                                                                                \r"
     ]
    },
    {
     "data": {
      "text/plain": [
       "[Row(customer_id=20422322, review_id='R8MEA6IGAHO0B', product_id='B00MC4CED8', product_parent=217304173, product_title='BlackVue DR600GW-PMP', product_category='Mobile_Electronics', star_rating=5, helpful_votes=0, total_votes=0, verified_purchase='Y', review_headline='Very Happy!', review_body=\"As advertised. Everything works perfectly, I'm very happy with the camera. As a matter of fact I'm going to buy another one for my 2nd car.\", review_date=datetime.date(2015, 8, 31), month=8, year=2015, product_category_num='0', titleArray=['blackvue', 'dr600gw-pmp'], titleVector=DenseVector([-0.1077, 0.0516, -0.8724, -0.5048, 0.977, 0.0285, 0.1862, 0.8066, 0.1477, -0.1925, -0.0905, -0.5206, -0.4962, -0.3989, -0.3593, 0.3368]), reviewArray=['as', 'advertised.', 'everything', 'works', 'perfectly,', \"i'm\", 'very', 'happy', 'with', 'the', 'camera.', 'as', 'a', 'matter', 'of', 'fact', \"i'm\", 'going', 'to', 'buy', 'another', 'one', 'for', 'my', '2nd', 'car.'], reviewVector=DenseVector([-0.2348, -0.0494, 0.1171, -0.0325, -0.3673, 0.1238, -0.08, 0.0921, -0.1271, -0.0245, 0.2107, -0.1193, 0.0605, -0.344, -0.3773, 0.037]))]"
      ]
     },
     "execution_count": 84,
     "metadata": {},
     "output_type": "execute_result"
    }
   ],
   "source": [
    "df.head(1)"
   ]
  },
  {
   "cell_type": "markdown",
   "metadata": {},
   "source": [
    "## Dataset Splitting\n",
    "* Use last year as test and the rest as train"
   ]
  },
  {
   "cell_type": "code",
   "execution_count": 85,
   "metadata": {},
   "outputs": [],
   "source": [
    "train = df.filter(F.year(review_date_col) < 2015)\n",
    "test = df.filter(F.year(review_date_col) == 2015)"
   ]
  },
  {
   "cell_type": "code",
   "execution_count": 86,
   "metadata": {},
   "outputs": [
    {
     "name": "stdout",
     "output_type": "stream",
     "text": [
      "163482\n",
      "58062\n"
     ]
    }
   ],
   "source": [
    "print(train.count())\n",
    "print(test.count())"
   ]
  },
  {
   "cell_type": "markdown",
   "metadata": {},
   "source": [
    "## Count Product Reviews Per Day\n",
    "* Group by unique product identifier and day to get reviews per day for each product"
   ]
  },
  {
   "cell_type": "code",
   "execution_count": 87,
   "metadata": {},
   "outputs": [],
   "source": [
    "grouped_df = df.groupby(review_date_col, product_parent_col).count()"
   ]
  },
  {
   "cell_type": "code",
   "execution_count": 88,
   "metadata": {},
   "outputs": [
    {
     "name": "stdout",
     "output_type": "stream",
     "text": [
      "Folder size: 0 bytes\n",
      "Folder size: 0.0 KB\n",
      "Folder size: 0.0 MB\n",
      "Folder size: 0.0 GB\n"
     ]
    }
   ],
   "source": [
    "import os\n",
    "\n",
    "def get_folder_size(folder_path):\n",
    "    total_size = 0\n",
    "    for dirpath, dirnames, filenames in os.walk(folder_path):\n",
    "        for filename in filenames:\n",
    "            file_path = os.path.join(dirpath, filename)\n",
    "            total_size += os.path.getsize(file_path)\n",
    "    return total_size\n",
    "\n",
    "folder_path = \"../clin6/data\"\n",
    "folder_size_bytes = get_folder_size(folder_path)\n",
    "folder_size_kb = folder_size_bytes / 1024\n",
    "folder_size_mb = folder_size_kb / 1024\n",
    "folder_size_gb = folder_size_mb / 1024\n",
    "\n",
    "print(\"Folder size:\", folder_size_bytes, \"bytes\")\n",
    "print(\"Folder size:\", folder_size_kb, \"KB\")\n",
    "print(\"Folder size:\", folder_size_mb, \"MB\")\n",
    "print(\"Folder size:\", folder_size_gb, \"GB\")"
   ]
  },
  {
   "cell_type": "markdown",
   "metadata": {},
   "source": [
    "# Data modeling\n",
    "* Train your first model"
   ]
  },
  {
   "cell_type": "code",
   "execution_count": 94,
   "metadata": {
    "scrolled": true
   },
   "outputs": [
    {
     "name": "stdout",
     "output_type": "stream",
     "text": [
      "+-----------+--------------------+\n",
      "|review_date|product_category_num|\n",
      "+-----------+--------------------+\n",
      "|    2013-12|                   0|\n",
      "|    2013-12|                   0|\n",
      "|    2013-12|                   0|\n",
      "|    2013-12|                   0|\n",
      "|    2013-12|                   0|\n",
      "|    2013-12|                   0|\n",
      "|    2013-12|                   0|\n",
      "|    2013-12|                   0|\n",
      "|    2013-12|                   0|\n",
      "|    2013-12|                   0|\n",
      "+-----------+--------------------+\n",
      "only showing top 10 rows\n",
      "\n"
     ]
    }
   ],
   "source": [
    "train_df= train.select(col('review_date'), col('product_category_num'))\n",
    "train_df = train_df.withColumn(\"review_date\", date_format(col(\"review_date\"), \"yyyy-MM\"))\n",
    "train_df_1 = train_df.filter(year('review_date') == 2013)\n",
    "train_df_1.show(10)"
   ]
  },
  {
   "cell_type": "code",
   "execution_count": 95,
   "metadata": {},
   "outputs": [
    {
     "name": "stderr",
     "output_type": "stream",
     "text": [
      "\r",
      "[Stage 181:==============>                                          (1 + 3) / 4]\r",
      "\r",
      "                                                                                \r"
     ]
    },
    {
     "name": "stdout",
     "output_type": "stream",
     "text": [
      "+-----------+--------------------+\n",
      "|review_date|product_category_num|\n",
      "+-----------+--------------------+\n",
      "|    2013-12|                   0|\n",
      "|    2013-12|                   0|\n",
      "|    2013-12|                   0|\n",
      "|    2013-12|                   0|\n",
      "|    2013-12|                   0|\n",
      "|    2013-12|                   0|\n",
      "|    2013-12|                   0|\n",
      "|    2013-12|                   0|\n",
      "|    2013-12|                   0|\n",
      "|    2013-12|                   0|\n",
      "|    2013-12|                   0|\n",
      "|    2013-12|                   0|\n",
      "|    2013-12|                   0|\n",
      "|    2013-12|                   0|\n",
      "|    2013-12|                   0|\n",
      "|    2013-12|                   0|\n",
      "|    2013-12|                   0|\n",
      "|    2013-12|                   0|\n",
      "|    2013-12|                   0|\n",
      "|    2013-12|                   0|\n",
      "+-----------+--------------------+\n",
      "only showing top 20 rows\n",
      "\n"
     ]
    },
    {
     "name": "stderr",
     "output_type": "stream",
     "text": [
      "[Stage 182:=====================================>                 (11 + 5) / 16]\r"
     ]
    },
    {
     "name": "stdout",
     "output_type": "stream",
     "text": [
      "+--------------------+\n",
      "|product_category_num|\n",
      "+--------------------+\n",
      "|                   0|\n",
      "+--------------------+\n",
      "\n"
     ]
    },
    {
     "name": "stderr",
     "output_type": "stream",
     "text": [
      "\r",
      "                                                                                \r"
     ]
    }
   ],
   "source": [
    "train_df_1 = train_df_1.na.drop() # there were null in product_category_num column\n",
    "train_df_1.show()\n",
    "distinct_product_category_num = train_df_1.select(\"product_category_num\").distinct()\n",
    "distinct_product_category_num.show(35)"
   ]
  },
  {
   "cell_type": "code",
   "execution_count": 96,
   "metadata": {},
   "outputs": [
    {
     "name": "stdout",
     "output_type": "stream",
     "text": [
      "+----+-----+--------------------+-----+\n",
      "|year|month|product_category_num|count|\n",
      "+----+-----+--------------------+-----+\n",
      "|2013|   10|                   0| 1620|\n",
      "|2013|   12|                   0| 1638|\n",
      "|2013|    7|                   0| 1668|\n",
      "|2013|    8|                   0| 1679|\n",
      "|2013|    9|                   0| 1517|\n",
      "|2013|   11|                   0| 1294|\n",
      "|2013|    4|                   0| 1824|\n",
      "|2013|    2|                   0| 2193|\n",
      "|2013|    3|                   0| 2070|\n",
      "|2013|    6|                   0| 1660|\n",
      "|2013|    5|                   0| 1746|\n",
      "|2013|    1|                   0| 3022|\n",
      "+----+-----+--------------------+-----+\n",
      "\n"
     ]
    }
   ],
   "source": [
    "# Group by 'year', 'month', and 'product_category_num' and count occurrences\n",
    "train_df_1 = train_df_1.withColumn(\"year\", year(\"review_date\"))\n",
    "train_df_1 = train_df_1.withColumn(\"month\", month(\"review_date\"))\n",
    "\n",
    "count_per_month = train_df_1.groupBy(\"year\", \"month\", \"product_category_num\").agg(count(\"*\").alias(\"count\"))\n",
    "\n",
    "count_per_month.show()"
   ]
  },
  {
   "cell_type": "code",
   "execution_count": 99,
   "metadata": {},
   "outputs": [
    {
     "data": {
      "image/png": "[encoded data removed]",
      "text/plain": [
       "<Figure size 1200x600 with 1 Axes>"
      ]
     },
     "metadata": {},
     "output_type": "display_data"
    }
   ],
   "source": [
    "# PLotting all product category # counts in year 2014\n",
    "df_pd = count_per_month.toPandas()\n",
    "\n",
    "plt.figure(figsize=(12, 6))\n",
    "\n",
    "# Loop product categories num and plot counts with different colors\n",
    "for category in df_pd['product_category_num'].unique():\n",
    "    df_cat = df_pd[df_pd['product_category_num'] == category]\n",
    "    df_cat = df_cat.sort_values(by='month')\n",
    "    plt.plot(df_cat['month'], df_cat['count'], label=f'Product Category {category}')\n",
    "\n",
    "plt.xlabel('Month')\n",
    "plt.ylabel('Count')\n",
    "plt.title('Count of Product Categories per Month 2014')\n",
    "plt.legend(bbox_to_anchor=(1.05, 1), loc='upper left')\n",
    "plt.show()"
   ]
  },
  {
   "cell_type": "code",
   "execution_count": 100,
   "metadata": {},
   "outputs": [
    {
     "name": "stderr",
     "output_type": "stream",
     "text": [
      "[Stage 193:===================================================>   (15 + 1) / 16]\r"
     ]
    },
    {
     "name": "stdout",
     "output_type": "stream",
     "text": [
      "+----+-----+-----+\n",
      "|year|month|count|\n",
      "+----+-----+-----+\n",
      "|2013|    9| 1517|\n",
      "|2013|   10| 1620|\n",
      "|2013|   12| 1638|\n",
      "|2013|    7| 1668|\n",
      "|2013|   11| 1294|\n",
      "|2013|    8| 1679|\n",
      "|2013|    2| 2193|\n",
      "|2013|    3| 2070|\n",
      "|2013|    6| 1660|\n",
      "|2013|    4| 1824|\n",
      "|2013|    5| 1746|\n",
      "|2013|    1| 3022|\n",
      "+----+-----+-----+\n",
      "\n"
     ]
    },
    {
     "name": "stderr",
     "output_type": "stream",
     "text": [
      "\r",
      "                                                                                \r"
     ]
    }
   ],
   "source": [
    "from pyspark.sql.functions import year, month, count as spark_count\n",
    "\n",
    "train_df_2 = train_df_1.filter(col('product_category_num') == 0)\n",
    "train_df_2 = train_df_2.withColumn(\"year\", year(\"review_date\"))\n",
    "train_df_2 = train_df_2.withColumn(\"month\", month(\"review_date\"))\n",
    "\n",
    "# Group by 'year', 'month', and 'product_category_num' and count occurrences\n",
    "count_per_month = train_df_2.groupBy(\"year\", \"month\").agg(spark_count(\"*\").alias(\"count\"))\n",
    "\n",
    "count_per_month.show()\n",
    "\n",
    "#6-> 13649\n",
    "#20 -> 611329"
   ]
  },
  {
   "cell_type": "code",
   "execution_count": 101,
   "metadata": {},
   "outputs": [
    {
     "name": "stderr",
     "output_type": "stream",
     "text": [
      "\r",
      "[Stage 196:================================================>      (14 + 2) / 16]\r"
     ]
    },
    {
     "name": "stdout",
     "output_type": "stream",
     "text": [
      "Forecast: 12    1289.199368\n",
      "13    1621.667059\n",
      "14    1378.182153\n",
      "15    1593.492982\n",
      "16    1474.865100\n",
      "17    1572.492111\n",
      "18    1544.222689\n",
      "19    1564.286875\n",
      "Name: predicted_mean, dtype: float64\n"
     ]
    },
    {
     "name": "stderr",
     "output_type": "stream",
     "text": [
      "\r",
      "                                                                                \r",
      "/opt/anaconda3/envs/work/lib/python3.8/site-packages/statsmodels/tsa/base/tsa_model.py:473: ValueWarning: An unsupported index was provided and will be ignored when e.g. forecasting.\n",
      "  self._init_dates(dates, freq)\n",
      "/opt/anaconda3/envs/work/lib/python3.8/site-packages/statsmodels/tsa/base/tsa_model.py:473: ValueWarning: An unsupported index was provided and will be ignored when e.g. forecasting.\n",
      "  self._init_dates(dates, freq)\n",
      "/opt/anaconda3/envs/work/lib/python3.8/site-packages/statsmodels/tsa/base/tsa_model.py:473: ValueWarning: An unsupported index was provided and will be ignored when e.g. forecasting.\n",
      "  self._init_dates(dates, freq)\n",
      "/opt/anaconda3/envs/work/lib/python3.8/site-packages/statsmodels/tsa/statespace/sarimax.py:966: UserWarning: Non-stationary starting autoregressive parameters found. Using zeros as starting parameters.\n",
      "  warn('Non-stationary starting autoregressive parameters'\n",
      "/opt/anaconda3/envs/work/lib/python3.8/site-packages/statsmodels/tsa/base/tsa_model.py:836: ValueWarning: No supported index is available. Prediction results will be given with an integer index beginning at `start`.\n",
      "  return get_prediction_index(\n",
      "/opt/anaconda3/envs/work/lib/python3.8/site-packages/statsmodels/tsa/base/tsa_model.py:836: FutureWarning: No supported index is available. In the next version, calling this method in a model without a supported index will result in an exception.\n",
      "  return get_prediction_index(\n"
     ]
    }
   ],
   "source": [
    "import pandas as pd\n",
    "from statsmodels.tsa.arima.model import ARIMA\n",
    "# Convert the PySpark DataFrame to Pandas DataFrame\n",
    "count_per_month_pd = count_per_month.toPandas()\n",
    "count_per_month_pd['date'] = pd.to_datetime(count_per_month_pd[['year', 'month']].assign(day=1))\n",
    "count_per_month_pd.sort_values(by='date', inplace=True)\n",
    "\n",
    "# Extract the time series data\n",
    "series = count_per_month_pd['count']\n",
    "\n",
    "# Fit ARIMA model\n",
    "model = ARIMA(series, order=(5, 1, 0))  \n",
    "model_fit = model.fit()\n",
    "\n",
    "# 2015 Predictions \n",
    "forecast_steps = 8\n",
    "forecast = model_fit.forecast(steps=forecast_steps) \n",
    "print(\"Forecast:\", forecast)\n",
    "\n"
   ]
  },
  {
   "cell_type": "code",
   "execution_count": 102,
   "metadata": {},
   "outputs": [
    {
     "data": {
      "image/png": "[encoded data removed]",
      "text/plain": [
       "<Figure size 1000x600 with 1 Axes>"
      ]
     },
     "metadata": {},
     "output_type": "display_data"
    }
   ],
   "source": [
    "# time series data plot\n",
    "plt.figure(figsize=(10, 6))\n",
    "plt.plot(count_per_month_pd['date'], count_per_month_pd['count'], label='Actual')\n",
    "\n",
    "# Plot the forecast\n",
    "forecast_dates = pd.date_range(start=count_per_month_pd['date'].iloc[-1], periods=forecast_steps + 1, freq='M')[1:]\n",
    "plt.plot(forecast_dates, forecast, label='Forecast', linestyle='--')\n",
    "\n",
    "plt.xlabel('Date')\n",
    "plt.ylabel('Count')\n",
    "plt.title('Time Series Data and ARIMA Forecast for product_category_num=32 Year 2014')\n",
    "plt.legend()\n",
    "\n",
    "plt.grid(True)\n",
    "plt.show()"
   ]
  },
  {
   "cell_type": "markdown",
   "metadata": {},
   "source": [
    "# Data Evaluation\n",
    "* Evaluate your model and compare training vs. test error"
   ]
  },
  {
   "cell_type": "code",
   "execution_count": 103,
   "metadata": {},
   "outputs": [
    {
     "name": "stdout",
     "output_type": "stream",
     "text": [
      "+-----------+--------------------+----+-----+\n",
      "|review_date|product_category_num|year|month|\n",
      "+-----------+--------------------+----+-----+\n",
      "|    2015-08|                   0|2015|    8|\n",
      "|    2015-08|                   0|2015|    8|\n",
      "|    2015-08|                   0|2015|    8|\n",
      "+-----------+--------------------+----+-----+\n",
      "only showing top 3 rows\n",
      "\n"
     ]
    }
   ],
   "source": [
    "test_df= test.select(col('review_date'), col('product_category_num'))\n",
    "test_df = test_df.withColumn(\"review_date\", date_format(col(\"review_date\"), \"yyyy-MM\"))\n",
    "test_df = test_df.withColumn(\"year\", year(\"review_date\"))\n",
    "test_df = test_df.withColumn(\"month\", month(\"review_date\"))\n",
    "test_df_1 = test_df.filter((col('product_category_num') == 0))\n",
    "test_df_1.show(3)\n"
   ]
  },
  {
   "cell_type": "code",
   "execution_count": 104,
   "metadata": {},
   "outputs": [
    {
     "name": "stderr",
     "output_type": "stream",
     "text": [
      "\r",
      "[Stage 200:=========================================>             (12 + 4) / 16]\r"
     ]
    },
    {
     "name": "stdout",
     "output_type": "stream",
     "text": [
      "+----+-----+-----+\n",
      "|year|month|count|\n",
      "+----+-----+-----+\n",
      "|2015|    2| 2169|\n",
      "|2015|    4| 1825|\n",
      "|2015|    8| 1758|\n",
      "|2015|    3| 2178|\n",
      "|2015|    7| 1695|\n",
      "|2015|    6| 1707|\n",
      "|2015|    1| 2442|\n",
      "|2015|    5| 1846|\n",
      "+----+-----+-----+\n",
      "\n"
     ]
    },
    {
     "name": "stderr",
     "output_type": "stream",
     "text": [
      "\r",
      "                                                                                \r"
     ]
    }
   ],
   "source": [
    "# Group by 'year', 'month', and 'product_category_num' and count occurrences\n",
    "test_count_per_month = test_df_1.groupBy(\"year\", \"month\").agg(spark_count(\"*\").alias(\"count\"))\n",
    "\n",
    "test_count_per_month.show()"
   ]
  },
  {
   "cell_type": "code",
   "execution_count": 105,
   "metadata": {},
   "outputs": [
    {
     "name": "stderr",
     "output_type": "stream",
     "text": [
      "\r",
      "[Stage 203:===================================================>   (15 + 1) / 16]\r",
      "\r",
      "                                                                                \r"
     ]
    }
   ],
   "source": [
    "test_count_per_month_pd = test_count_per_month.toPandas()\n",
    "test_count_per_month_pd['date'] = pd.to_datetime(test_count_per_month_pd[['year', 'month']].assign(day=1))\n",
    "test_count_per_month_pd.sort_values(by='date', inplace=True)"
   ]
  },
  {
   "cell_type": "code",
   "execution_count": 106,
   "metadata": {},
   "outputs": [
    {
     "name": "stderr",
     "output_type": "stream",
     "text": [
      "[Stage 208:>                                                        (0 + 1) / 1]\r"
     ]
    },
    {
     "name": "stdout",
     "output_type": "stream",
     "text": [
      "Test RMSE: 530.7096215042822\n"
     ]
    },
    {
     "name": "stderr",
     "output_type": "stream",
     "text": [
      "\r",
      "                                                                                \r"
     ]
    }
   ],
   "source": [
    "from math import sqrt\n",
    "from sklearn.metrics import mean_squared_error\n",
    "\n",
    "test_values = test_count_per_month.select('count').rdd.flatMap(lambda x: x).collect()\n",
    "rmse = sqrt(mean_squared_error(test_values, forecast))\n",
    "print('Test RMSE:', rmse)\n",
    "# this is how off we predicted the actualy values. "
   ]
  },
  {
   "cell_type": "code",
   "execution_count": 107,
   "metadata": {},
   "outputs": [
    {
     "data": {
      "image/png": "[encoded data removed]",
      "text/plain": [
       "<Figure size 640x480 with 1 Axes>"
      ]
     },
     "metadata": {},
     "output_type": "display_data"
    }
   ],
   "source": [
    "# Plot forecast, training, and testing data\n",
    "plt.plot(count_per_month_pd['date'], model_fit.fittedvalues, color='green', label='Training Forecast')\n",
    "\n",
    "test_dates = pd.to_datetime(test_count_per_month_pd[['year', 'month']].assign(day=1))\n",
    "plt.plot(test_dates, test_values, label='Testing Data')\n",
    "\n",
    "# Plot forecast\n",
    "plt.plot(test_dates, forecast, color='red', label='Forecast')\n",
    "\n",
    "plt.title('ARIMA Forecast for 2015 product_category_num 32')\n",
    "plt.xlabel('Date')\n",
    "plt.ylabel('Count')\n",
    "plt.xticks(rotation=45) \n",
    "plt.legend()\n",
    "plt.show()"
   ]
  },
  {
   "cell_type": "code",
   "execution_count": 115,
   "metadata": {},
   "outputs": [
    {
     "name": "stderr",
     "output_type": "stream",
     "text": [
      "/opt/anaconda3/envs/work/lib/python3.8/site-packages/statsmodels/tsa/base/tsa_model.py:473: ValueWarning: An unsupported index was provided and will be ignored when e.g. forecasting.\n",
      "  self._init_dates(dates, freq)\n",
      "/opt/anaconda3/envs/work/lib/python3.8/site-packages/statsmodels/tsa/base/tsa_model.py:473: ValueWarning: An unsupported index was provided and will be ignored when e.g. forecasting.\n",
      "  self._init_dates(dates, freq)\n",
      "/opt/anaconda3/envs/work/lib/python3.8/site-packages/statsmodels/tsa/base/tsa_model.py:473: ValueWarning: An unsupported index was provided and will be ignored when e.g. forecasting.\n",
      "  self._init_dates(dates, freq)\n",
      "/opt/anaconda3/envs/work/lib/python3.8/site-packages/statsmodels/tsa/statespace/sarimax.py:966: UserWarning: Non-stationary starting autoregressive parameters found. Using zeros as starting parameters.\n",
      "  warn('Non-stationary starting autoregressive parameters'\n",
      "/opt/anaconda3/envs/work/lib/python3.8/site-packages/statsmodels/tsa/base/tsa_model.py:836: ValueWarning: No supported index is available. Prediction results will be given with an integer index beginning at `start`.\n",
      "  return get_prediction_index(\n",
      "/opt/anaconda3/envs/work/lib/python3.8/site-packages/statsmodels/tsa/base/tsa_model.py:836: FutureWarning: No supported index is available. In the next version, calling this method in a model without a supported index will result in an exception.\n",
      "  return get_prediction_index(\n",
      "/opt/anaconda3/envs/work/lib/python3.8/site-packages/statsmodels/tsa/base/tsa_model.py:473: ValueWarning: An unsupported index was provided and will be ignored when e.g. forecasting.\n",
      "  self._init_dates(dates, freq)\n",
      "/opt/anaconda3/envs/work/lib/python3.8/site-packages/statsmodels/tsa/base/tsa_model.py:473: ValueWarning: An unsupported index was provided and will be ignored when e.g. forecasting.\n",
      "  self._init_dates(dates, freq)\n",
      "/opt/anaconda3/envs/work/lib/python3.8/site-packages/statsmodels/tsa/base/tsa_model.py:473: ValueWarning: An unsupported index was provided and will be ignored when e.g. forecasting.\n",
      "  self._init_dates(dates, freq)\n",
      "/opt/anaconda3/envs/work/lib/python3.8/site-packages/statsmodels/tsa/statespace/sarimax.py:966: UserWarning: Non-stationary starting autoregressive parameters found. Using zeros as starting parameters.\n",
      "  warn('Non-stationary starting autoregressive parameters'\n",
      "/opt/anaconda3/envs/work/lib/python3.8/site-packages/statsmodels/base/model.py:607: ConvergenceWarning: Maximum Likelihood optimization failed to converge. Check mle_retvals\n",
      "  warnings.warn(\"Maximum Likelihood optimization failed to \"\n",
      "/opt/anaconda3/envs/work/lib/python3.8/site-packages/statsmodels/tsa/base/tsa_model.py:836: ValueWarning: No supported index is available. Prediction results will be given with an integer index beginning at `start`.\n",
      "  return get_prediction_index(\n",
      "/opt/anaconda3/envs/work/lib/python3.8/site-packages/statsmodels/tsa/base/tsa_model.py:836: FutureWarning: No supported index is available. In the next version, calling this method in a model without a supported index will result in an exception.\n",
      "  return get_prediction_index(\n",
      "/opt/anaconda3/envs/work/lib/python3.8/site-packages/statsmodels/tsa/base/tsa_model.py:473: ValueWarning: An unsupported index was provided and will be ignored when e.g. forecasting.\n",
      "  self._init_dates(dates, freq)\n",
      "/opt/anaconda3/envs/work/lib/python3.8/site-packages/statsmodels/tsa/base/tsa_model.py:473: ValueWarning: An unsupported index was provided and will be ignored when e.g. forecasting.\n",
      "  self._init_dates(dates, freq)\n",
      "/opt/anaconda3/envs/work/lib/python3.8/site-packages/statsmodels/tsa/base/tsa_model.py:473: ValueWarning: An unsupported index was provided and will be ignored when e.g. forecasting.\n",
      "  self._init_dates(dates, freq)\n",
      "/opt/anaconda3/envs/work/lib/python3.8/site-packages/statsmodels/tsa/statespace/sarimax.py:966: UserWarning: Non-stationary starting autoregressive parameters found. Using zeros as starting parameters.\n",
      "  warn('Non-stationary starting autoregressive parameters'\n",
      "/opt/anaconda3/envs/work/lib/python3.8/site-packages/statsmodels/base/model.py:607: ConvergenceWarning: Maximum Likelihood optimization failed to converge. Check mle_retvals\n",
      "  warnings.warn(\"Maximum Likelihood optimization failed to \"\n",
      "/opt/anaconda3/envs/work/lib/python3.8/site-packages/statsmodels/tsa/base/tsa_model.py:836: ValueWarning: No supported index is available. Prediction results will be given with an integer index beginning at `start`.\n",
      "  return get_prediction_index(\n",
      "/opt/anaconda3/envs/work/lib/python3.8/site-packages/statsmodels/tsa/base/tsa_model.py:836: FutureWarning: No supported index is available. In the next version, calling this method in a model without a supported index will result in an exception.\n",
      "  return get_prediction_index(\n",
      "/opt/anaconda3/envs/work/lib/python3.8/site-packages/statsmodels/tsa/base/tsa_model.py:473: ValueWarning: An unsupported index was provided and will be ignored when e.g. forecasting.\n",
      "  self._init_dates(dates, freq)\n",
      "/opt/anaconda3/envs/work/lib/python3.8/site-packages/statsmodels/tsa/base/tsa_model.py:473: ValueWarning: An unsupported index was provided and will be ignored when e.g. forecasting.\n",
      "  self._init_dates(dates, freq)\n",
      "/opt/anaconda3/envs/work/lib/python3.8/site-packages/statsmodels/tsa/base/tsa_model.py:473: ValueWarning: An unsupported index was provided and will be ignored when e.g. forecasting.\n",
      "  self._init_dates(dates, freq)\n",
      "/opt/anaconda3/envs/work/lib/python3.8/site-packages/statsmodels/tsa/statespace/sarimax.py:866: UserWarning: Too few observations to estimate starting parameters for ARMA and trend. All parameters except for variances will be set to zeros.\n",
      "  warn('Too few observations to estimate starting parameters%s.'\n",
      "/opt/anaconda3/envs/work/lib/python3.8/site-packages/statsmodels/base/model.py:607: ConvergenceWarning: Maximum Likelihood optimization failed to converge. Check mle_retvals\n",
      "  warnings.warn(\"Maximum Likelihood optimization failed to \"\n",
      "/opt/anaconda3/envs/work/lib/python3.8/site-packages/statsmodels/tsa/base/tsa_model.py:836: ValueWarning: No supported index is available. Prediction results will be given with an integer index beginning at `start`.\n",
      "  return get_prediction_index(\n",
      "/opt/anaconda3/envs/work/lib/python3.8/site-packages/statsmodels/tsa/base/tsa_model.py:836: FutureWarning: No supported index is available. In the next version, calling this method in a model without a supported index will result in an exception.\n",
      "  return get_prediction_index(\n",
      "/opt/anaconda3/envs/work/lib/python3.8/site-packages/statsmodels/tsa/base/tsa_model.py:473: ValueWarning: An unsupported index was provided and will be ignored when e.g. forecasting.\n",
      "  self._init_dates(dates, freq)\n",
      "/opt/anaconda3/envs/work/lib/python3.8/site-packages/statsmodels/tsa/base/tsa_model.py:473: ValueWarning: An unsupported index was provided and will be ignored when e.g. forecasting.\n",
      "  self._init_dates(dates, freq)\n",
      "/opt/anaconda3/envs/work/lib/python3.8/site-packages/statsmodels/tsa/base/tsa_model.py:473: ValueWarning: An unsupported index was provided and will be ignored when e.g. forecasting.\n",
      "  self._init_dates(dates, freq)\n",
      "/opt/anaconda3/envs/work/lib/python3.8/site-packages/statsmodels/tsa/statespace/sarimax.py:866: UserWarning: Too few observations to estimate starting parameters for ARMA and trend. All parameters except for variances will be set to zeros.\n",
      "  warn('Too few observations to estimate starting parameters%s.'\n",
      "/opt/anaconda3/envs/work/lib/python3.8/site-packages/statsmodels/base/model.py:607: ConvergenceWarning: Maximum Likelihood optimization failed to converge. Check mle_retvals\n",
      "  warnings.warn(\"Maximum Likelihood optimization failed to \"\n",
      "/opt/anaconda3/envs/work/lib/python3.8/site-packages/statsmodels/tsa/base/tsa_model.py:836: ValueWarning: No supported index is available. Prediction results will be given with an integer index beginning at `start`.\n",
      "  return get_prediction_index(\n",
      "/opt/anaconda3/envs/work/lib/python3.8/site-packages/statsmodels/tsa/base/tsa_model.py:836: FutureWarning: No supported index is available. In the next version, calling this method in a model without a supported index will result in an exception.\n",
      "  return get_prediction_index(\n"
     ]
    }
   ],
   "source": [
    "train_values = count_per_month.select('count').rdd.flatMap(lambda x: x).collect()\n",
    "\n",
    "test_errors = []\n",
    "train_errors = []\n",
    "\n",
    "for i in range(0,5,1):\n",
    "    model = ARIMA(series, order=(5+i, 1+i, i))\n",
    "    model_fit = model.fit()\n",
    "\n",
    "    forecast = model_fit.forecast(steps=forecast_steps)\n",
    "    train_rmse = sqrt(mean_squared_error(train_values, model_fit.fittedvalues))\n",
    "    train_errors.append(train_rmse)\n",
    "    \n",
    "    test_rmse = sqrt(mean_squared_error(test_values, forecast))\n",
    "    test_errors.append(test_rmse)"
   ]
  },
  {
   "cell_type": "code",
   "execution_count": 117,
   "metadata": {},
   "outputs": [
    {
     "data": {
      "image/png": "[encoded data removed]",
      "text/plain": [
       "<Figure size 1000x600 with 1 Axes>"
      ]
     },
     "metadata": {},
     "output_type": "display_data"
    }
   ],
   "source": [
    "plt.figure(figsize=(10, 6))\n",
    "plt.plot(range(0,5,1), train_errors, label='Train RMSE', marker='o')\n",
    "plt.plot(range(0,5,1), test_errors, label='Test RMSE', marker='o')\n",
    "plt.xlabel('i')\n",
    "plt.ylabel('RMSE')\n",
    "plt.legend()\n",
    "plt.grid(True)\n",
    "plt.show()"
   ]
  },
  {
   "cell_type": "markdown",
   "metadata": {},
   "source": [
    "# Answer the questions\n",
    "* Where does your model fit in the fitting graph? and What are the next models you are thinking of and why?"
   ]
  },
  {
   "cell_type": "markdown",
   "metadata": {},
   "source": [
    "Based on the ARIMA model for product_category_num 32 of the year 2014, we forcasted the estimate of sales (with assumption based on reviews). The next models will include more training data, prior to 2014 for all product catgeories. We may possibily utilize the word2vector data to see the primary key words that have the highest count of reviews which we assume correlates to high counts of purchases. Through this we can forcast what speciifc item or product_category_num will increase in sales. However before moving on to more complicated models, our team will focus on building upon the ARIMA model to more acurately forcast which product_category_num is rise in sales/popular as the forcasted and test data concluded with a RMSE of 28498.15662477966. "
   ]
  },
  {
   "cell_type": "markdown",
   "metadata": {},
   "source": [
    "# Conclusion section\n",
    "* What is the conclusion of your 1st model? What can be done to possibly improve it?"
   ]
  },
  {
   "cell_type": "markdown",
   "metadata": {},
   "source": [
    "The 1st model concluded with an RMSE of 28498.156. This isn't the best given that there is almost a difference of 30k of the forcsted and the actualy 2015 test data for the product_category_num 32. We can increase the training data from 2014 to the range of 2010 to 2014. We do this for all the product_category_num to be able to accurately predict which item is more popular.  By increasing the training data we will be able to catch more underlying patterns thorughout the years. "
   ]
  }
 ],
 "metadata": {
  "anaconda-cloud": {},
  "celltoolbar": "Slideshow",
  "hide_input": false,
  "kernelspec": {
   "display_name": "Python 3 (ipykernel)",
   "language": "python",
   "name": "python3"
  },
  "language_info": {
   "codemirror_mode": {
    "name": "ipython",
    "version": 3
   },
   "file_extension": ".py",
   "mimetype": "text/x-python",
   "name": "python",
   "nbconvert_exporter": "python",
   "pygments_lexer": "ipython3",
   "version": "3.8.17"
  },
  "toc": {
   "base_numbering": 1,
   "nav_menu": {
    "height": "190px",
    "width": "252px"
   },
   "number_sections": true,
   "sideBar": true,
   "skip_h1_title": false,
   "title_cell": "Table of Contents",
   "title_sidebar": "Contents",
   "toc_cell": false,
   "toc_position": {
    "height": "514px",
    "left": "0px",
    "right": "925px",
    "top": "107px",
    "width": "323px"
   },
   "toc_section_display": "block",
   "toc_window_display": false
  }
 },
 "nbformat": 4,
 "nbformat_minor": 4
}
