{
 "cells": [
  {
   "cell_type": "markdown",
   "metadata": {
    "slideshow": {
     "slide_type": "slide"
    }
   },
   "source": [
    "## Amazon Review Data : Data Exploration\n",
    "\n",
    "### Setup spark"
   ]
  },
  {
   "cell_type": "code",
   "execution_count": 1,
   "metadata": {},
   "outputs": [
    {
     "name": "stderr",
     "output_type": "stream",
     "text": [
      "Matplotlib created a temporary cache directory at /scratch/clin6/job_30513706/matplotlib-2mmnavry because the default path (/home/jovyan/.cache/matplotlib) is not a writable directory; it is highly recommended to set the MPLCONFIGDIR environment variable to a writable directory, in particular to speed up the import of Matplotlib and to better support multiprocessing.\n"
     ]
    }
   ],
   "source": [
    "import os, pickle, glob\n",
    "from pyspark.sql import SparkSession\n",
    "from pyspark.sql import SQLContext\n",
    "\n",
    "import matplotlib.pyplot as plt\n",
    "\n",
    "import pyspark.sql.functions as F"
   ]
  },
  {
   "cell_type": "code",
   "execution_count": 2,
   "metadata": {},
   "outputs": [],
   "source": [
    "sc = SparkSession.builder \\\n",
    "    .config(\"spark.driver.memory\", \"64g\") \\\n",
    "\t.config(\"spark.executor.memory\", \"32g\") \\\n",
    "    .config('spark.executor.instances', 2) \\\n",
    "\t.appName(\"Amazon Reviews\") \\\n",
    "\t.getOrCreate()"
   ]
  },
  {
   "cell_type": "code",
   "execution_count": 3,
   "metadata": {},
   "outputs": [
    {
     "name": "stderr",
     "output_type": "stream",
     "text": [
      "/usr/local/spark/python/pyspark/sql/context.py:113: FutureWarning: Deprecated in 3.0.0. Use SparkSession.builder.getOrCreate() instead.\n",
      "  warnings.warn(\n"
     ]
    }
   ],
   "source": [
    "sqlContext = SQLContext(sc)"
   ]
  },
  {
   "cell_type": "markdown",
   "metadata": {
    "slideshow": {
     "slide_type": "subslide"
    }
   },
   "source": [
    "## Read Data\n",
    "\n",
    "### Get files"
   ]
  },
  {
   "cell_type": "code",
   "execution_count": 4,
   "metadata": {},
   "outputs": [],
   "source": [
    "#######################################################################################\n",
    "###################### change path to: \"../clin6/amazon_data\" #########################\n",
    "#######################################################################################\n",
    "path = \"../clin6/amazon_data\""
   ]
  },
  {
   "cell_type": "code",
   "execution_count": 5,
   "metadata": {},
   "outputs": [],
   "source": [
    "def read(path):\n",
    "    \"\"\"\n",
    "    Method that loads data file as df\n",
    "    Takes in 1 parameter: path\n",
    "    \"\"\"\n",
    "    return sc.read.csv(path, sep = \"\\t\", header = True, inferSchema = True)\n",
    "\n",
    "def get_path(file):\n",
    "    \"\"\"\n",
    "    Method to create path\n",
    "    Takes in 1 parameter: file name\n",
    "    \"\"\"\n",
    "    return \"amazon_data/%s\" % file"
   ]
  },
  {
   "cell_type": "code",
   "execution_count": 6,
   "metadata": {},
   "outputs": [],
   "source": [
    "dir = os.listdir(path)\n",
    "files = [f for f in dir if os.path.isfile(os.path.join(path, f))]"
   ]
  },
  {
   "cell_type": "markdown",
   "metadata": {},
   "source": [
    "def get_df(files):\n",
    "    \"\"\"\n",
    "    Method that combines files into 1 big df\n",
    "    Takes in 1 parameter: list of file names\n",
    "    \"\"\"\n",
    "    df = None\n",
    "    n = len(files)\n",
    "    for i in range(n):\n",
    "        data = read(get_path(files[i]))\n",
    "        if df is None:\n",
    "            df = data\n",
    "        else:\n",
    "            df = df.union(data)\n",
    "    return df"
   ]
  },
  {
   "cell_type": "markdown",
   "metadata": {},
   "source": [
    "# Data Preprocessing\n",
    "* Finish major preprocessing, this includes scaling and/or transforming your data, imputing your data, encoding your data, feature expansion, Feature expansion (example is taking features and generating new features by transforming via polynomial, log multiplication of features)."
   ]
  },
  {
   "cell_type": "markdown",
   "metadata": {},
   "source": [
    "### Take care of missing categories"
   ]
  },
  {
   "cell_type": "code",
   "execution_count": 7,
   "metadata": {},
   "outputs": [],
   "source": [
    "product_category_col = 'product_category'"
   ]
  },
  {
   "cell_type": "code",
   "execution_count": 8,
   "metadata": {},
   "outputs": [],
   "source": [
    "def get_imputed_df(files, category = True):\n",
    "    \"\"\"\n",
    "    Method that combines files into 1 big df\n",
    "    Takes in 1 parameter: list of file names\n",
    "    \"\"\"\n",
    "    df = None\n",
    "    n = len(files)\n",
    "    for i in range(1):\n",
    "        data = read(get_path(files[i]))\n",
    "        \n",
    "        # Fill in null categories\n",
    "        if category:\n",
    "            data = data.withColumn(product_category_col,\n",
    "                                   F.col(product_category_col)).fillna(files[i][18:-10])\n",
    "        \n",
    "        if df is None:\n",
    "            df = data\n",
    "        else:\n",
    "            df = df.union(data)\n",
    "    return df"
   ]
  },
  {
   "cell_type": "markdown",
   "metadata": {},
   "source": [
    "### Get df and Removing Repetitive/Unnecessary Information"
   ]
  },
  {
   "cell_type": "code",
   "execution_count": 9,
   "metadata": {},
   "outputs": [],
   "source": [
    "df = get_imputed_df(files).drop('marketplace', 'vine').cache()\n",
    "sqlContext.registerDataFrameAsTable(df, \"df\")"
   ]
  },
  {
   "cell_type": "code",
   "execution_count": 10,
   "metadata": {},
   "outputs": [],
   "source": [
    "columns = df.columns\n",
    "num_cols = len(columns)"
   ]
  },
  {
   "cell_type": "markdown",
   "metadata": {},
   "source": [
    "### Filter rows with missing body and date "
   ]
  },
  {
   "cell_type": "code",
   "execution_count": 11,
   "metadata": {},
   "outputs": [],
   "source": [
    "review_body_col = 'review_body'\n",
    "review_date_col = 'review_date'"
   ]
  },
  {
   "cell_type": "code",
   "execution_count": 12,
   "metadata": {},
   "outputs": [
    {
     "data": {
      "text/plain": [
       "DataFrame[customer_id: int, review_id: string, product_id: string, product_parent: int, product_title: string, product_category: string, star_rating: int, helpful_votes: int, total_votes: int, verified_purchase: string, review_headline: string, review_body: string, review_date: date]"
      ]
     },
     "execution_count": 12,
     "metadata": {},
     "output_type": "execute_result"
    }
   ],
   "source": [
    "df.filter(df[review_body_col].isNotNull() & df[review_date_col].isNotNull())"
   ]
  },
  {
   "cell_type": "code",
   "execution_count": 13,
   "metadata": {},
   "outputs": [
    {
     "data": {
      "image/png": "[encoded data removed]",
      "text/plain": [
       "<Figure size 640x480 with 1 Axes>"
      ]
     },
     "metadata": {},
     "output_type": "display_data"
    }
   ],
   "source": [
    "selected_columns = df.select(\"helpful_votes\", \"star_rating\")\n",
    "data = selected_columns.collect()\n",
    "x = [row.helpful_votes for row in data]\n",
    "y = [row.star_rating for row in data]\n",
    "plt.scatter(x, y)\n",
    "plt.title(\"Scatter Plot of column1 vs column2\")\n",
    "plt.xlabel(\"helpful_votes\")\n",
    "plt.ylabel(\"star_rating\")\n",
    "plt.show()"
   ]
  },
  {
   "cell_type": "markdown",
   "metadata": {},
   "source": [
    "# Data modeling\n",
    "* Train your first model"
   ]
  },
  {
   "cell_type": "markdown",
   "metadata": {},
   "source": [
    "# Data Evaluation\n",
    "* Evaluate your model and compare training vs. test error"
   ]
  },
  {
   "cell_type": "markdown",
   "metadata": {},
   "source": [
    "# Answer the questions\n",
    "* Where does your model fit in the fitting graph? and What are the next models you are thinking of and why?"
   ]
  },
  {
   "cell_type": "markdown",
   "metadata": {},
   "source": [
    "# Conclusion section\n",
    "* What is the conclusion of your 1st model? What can be done to possibly improve it?"
   ]
  },
  {
   "cell_type": "code",
   "execution_count": null,
   "metadata": {},
   "outputs": [],
   "source": []
  }
 ],
 "metadata": {
  "anaconda-cloud": {},
  "celltoolbar": "Slideshow",
  "hide_input": false,
  "kernelspec": {
   "display_name": "Python 3 (ipykernel)",
   "language": "python",
   "name": "python3"
  },
  "language_info": {
   "codemirror_mode": {
    "name": "ipython",
    "version": 3
   },
   "file_extension": ".py",
   "mimetype": "text/x-python",
   "name": "python",
   "nbconvert_exporter": "python",
   "pygments_lexer": "ipython3",
   "version": "3.11.6"
  },
  "toc": {
   "base_numbering": 1,
   "nav_menu": {
    "height": "190px",
    "width": "252px"
   },
   "number_sections": true,
   "sideBar": true,
   "skip_h1_title": false,
   "title_cell": "Table of Contents",
   "title_sidebar": "Contents",
   "toc_cell": false,
   "toc_position": {
    "height": "514px",
    "left": "0px",
    "right": "925px",
    "top": "107px",
    "width": "323px"
   },
   "toc_section_display": "block",
   "toc_window_display": false
  }
 },
 "nbformat": 4,
 "nbformat_minor": 4
}
